{
 "cells": [
  {
   "cell_type": "markdown",
   "id": "a264e72a",
   "metadata": {},
   "source": [
    "## Информация о текущей версии"
   ]
  },
  {
   "cell_type": "code",
   "execution_count": 1,
   "id": "9501dbc9",
   "metadata": {},
   "outputs": [
    {
     "name": "stdout",
     "output_type": "stream",
     "text": [
      "codeplag-0.5.9\n"
     ]
    }
   ],
   "source": [
    "from codeplag.consts import UTIL_VERSION, UTIL_NAME\n",
    "\n",
    "print(f\"{UTIL_NAME}-{UTIL_VERSION}\")"
   ]
  },
  {
   "cell_type": "markdown",
   "id": "1cd79f83",
   "metadata": {},
   "source": [
    "# Быстрый поиск схожих работ без подробностей"
   ]
  },
  {
   "cell_type": "code",
   "execution_count": 2,
   "id": "6dbd0ffc",
   "metadata": {},
   "outputs": [],
   "source": [
    "from codeplag.algorithms.tokenbased import value_jakkar_coef\n",
    "from codeplag.getfeatures import get_files_path_from_directory\n",
    "from codeplag.pyplag.utils import get_ast_from_filename, get_features_from_ast"
   ]
  },
  {
   "cell_type": "code",
   "execution_count": 3,
   "id": "22a78044",
   "metadata": {},
   "outputs": [
    {
     "name": "stdout",
     "output_type": "stream",
     "text": [
      "Количество файлов: 4\n",
      "[PosixPath('/usr/src/codeplag/src/codeplag/algorithms/stringbased.py'),\n",
      " PosixPath('/usr/src/codeplag/src/codeplag/algorithms/featurebased.py'),\n",
      " PosixPath('/usr/src/codeplag/src/codeplag/algorithms/compare.py'),\n",
      " PosixPath('/usr/src/codeplag/src/codeplag/algorithms/tokenbased.py')]\n"
     ]
    }
   ],
   "source": [
    "import re\n",
    "from pathlib import Path\n",
    "from pprint import pprint\n",
    "\n",
    "py_files = get_files_path_from_directory(\n",
    "    Path(f\"/usr/src/{UTIL_NAME}/src/{UTIL_NAME}/algorithms\"),\n",
    "    extensions=(re.compile(r\".py$\"),)\n",
    ")\n",
    "py_files = list(filter(lambda file: file.name != \"__init__.py\", py_files))\n",
    "print(\"Количество файлов:\", len(py_files))\n",
    "pprint(py_files)"
   ]
  },
  {
   "cell_type": "code",
   "execution_count": 4,
   "id": "4ed03de8",
   "metadata": {},
   "outputs": [
    {
     "name": "stdout",
     "output_type": "stream",
     "text": [
      "                 stringbased.py  featurebased.py  compare.py  tokenbased.py\n",
      "stringbased.py         1.000000         0.442424    0.291667       0.437037\n",
      "featurebased.py        0.442424         1.000000    0.305970       0.475862\n",
      "compare.py             0.291667         0.305970    1.000000       0.378947\n",
      "tokenbased.py          0.437037         0.475862    0.378947       1.000000\n"
     ]
    }
   ],
   "source": [
    "import pandas as pd\n",
    "import numpy as np\n",
    "from codeplag.pyplag.utils import get_ast_from_filename, get_features_from_ast\n",
    "\n",
    "\n",
    "mapped_files = list(map(lambda x: str(x).split('/')[-1], py_files))\n",
    "count_files = len(py_files)\n",
    "df = pd.DataFrame(\n",
    "    index=mapped_files,\n",
    "    columns=mapped_files,\n",
    "    data=np.zeros(\n",
    "        (count_files, count_files)\n",
    "    )\n",
    ")\n",
    "for i, file1 in enumerate(py_files):\n",
    "    tree1 = get_ast_from_filename(file1)\n",
    "    features1 = get_features_from_ast(tree1, file1)\n",
    "    for j, file2 in enumerate(py_files):\n",
    "        if i == j:\n",
    "            df.iloc[i, j] = 1.0\n",
    "            break\n",
    "\n",
    "        tree2 = get_ast_from_filename(file2)\n",
    "        features2 = get_features_from_ast(tree2, file2)\n",
    "        result = value_jakkar_coef(features1.tokens, features2.tokens) \n",
    "        df.iloc[i, j] = result\n",
    "        df.iloc[j, i] = result\n",
    "        j += 1\n",
    "    i += 1\n",
    "print(df)"
   ]
  },
  {
   "cell_type": "markdown",
   "id": "482b75f8",
   "metadata": {},
   "source": [
    "**Чем ближе к нулю значение метрики, тем меньше соответсвие двух исходных кодов программ, чем ближе к единице, тем выше схожесть.**\n",
    "\n",
    "Можно обозначить пороговое значение, при котором будет срабатывать предупреждение, что работы похожи по содрежанию, к примеру и запускать более показательные алгоритмы, которые смогут показать схожие части двух программ."
   ]
  },
  {
   "cell_type": "code",
   "execution_count": 5,
   "id": "a8bc0bff",
   "metadata": {},
   "outputs": [
    {
     "data": {
      "text/plain": [
       "<AxesSubplot:>"
      ]
     },
     "execution_count": 5,
     "metadata": {},
     "output_type": "execute_result"
    },
    {
     "data": {
      "image/png": "[encoded data removed]",
      "text/plain": [
       "<Figure size 800x320 with 2 Axes>"
      ]
     },
     "metadata": {
      "needs_background": "light"
     },
     "output_type": "display_data"
    }
   ],
   "source": [
    "from matplotlib.pyplot import figure\n",
    "import seaborn as sns\n",
    "\n",
    "figure(figsize=(10, 4), dpi=80)\n",
    "sns.heatmap(df, annot=True, linewidths=.6, cmap=\"YlGnBu\")"
   ]
  },
  {
   "cell_type": "markdown",
   "id": "f21e2d6a",
   "metadata": {},
   "source": [
    "# Быстрый поиск схожих работ без подробностей на основе составной метрики"
   ]
  },
  {
   "cell_type": "markdown",
   "id": "859c651c",
   "metadata": {},
   "source": [
    "Данная метрика состоит из коэффициента Жаккара и трёх метрик счёткиков. Каждому полученному значению применённых алгоритмов ставится свой вес."
   ]
  },
  {
   "cell_type": "code",
   "execution_count": 6,
   "id": "6d9a862c",
   "metadata": {},
   "outputs": [
    {
     "name": "stdout",
     "output_type": "stream",
     "text": [
      "                 stringbased.py  featurebased.py  compare.py  tokenbased.py\n",
      "stringbased.py         1.000000         0.419378    0.247131       0.476936\n",
      "featurebased.py        0.419378         1.000000    0.193794       0.435390\n",
      "compare.py             0.247131         0.193794    1.000000       0.276303\n",
      "tokenbased.py          0.476936         0.435390    0.276303       1.000000\n"
     ]
    }
   ],
   "source": [
    "from codeplag.algorithms.compare import fast_compare\n",
    "\n",
    "import pandas as pd\n",
    "import numpy as np\n",
    "from codeplag.pyplag.utils import get_ast_from_filename, get_features_from_ast\n",
    "\n",
    "weights = np.array([1, 0.4, 0.4, 0.4], dtype=np.float32)\n",
    "df = pd.DataFrame(\n",
    "    index=mapped_files,\n",
    "    columns=mapped_files,\n",
    "    data=np.zeros(\n",
    "        (count_files, count_files)\n",
    "    )\n",
    ")\n",
    "for i, file1 in enumerate(py_files):\n",
    "    tree1 = get_ast_from_filename(file1)\n",
    "    features1 = get_features_from_ast(tree1, file1)\n",
    "    for j, file2 in enumerate(py_files):\n",
    "        if i == j:\n",
    "            df.iloc[i, j] = 1.0\n",
    "            break\n",
    "\n",
    "        tree2 = get_ast_from_filename(file2)\n",
    "        features2 = get_features_from_ast(tree2, file2)\n",
    "        result = fast_compare(features1, features2, weights=weights)\n",
    "        df.iloc[i, j] = result.weighted_average\n",
    "        df.iloc[j, i] = result.weighted_average\n",
    "        j += 1\n",
    "    i += 1\n",
    "print(df)"
   ]
  },
  {
   "cell_type": "code",
   "execution_count": 7,
   "id": "4f5d35eb",
   "metadata": {},
   "outputs": [
    {
     "data": {
      "text/plain": [
       "<AxesSubplot:>"
      ]
     },
     "execution_count": 7,
     "metadata": {},
     "output_type": "execute_result"
    },
    {
     "data": {
      "image/png": "[encoded data removed]",
      "text/plain": [
       "<Figure size 800x320 with 2 Axes>"
      ]
     },
     "metadata": {
      "needs_background": "light"
     },
     "output_type": "display_data"
    }
   ],
   "source": [
    "from matplotlib.pyplot import figure\n",
    "import seaborn as sns\n",
    "\n",
    "figure(figsize=(10, 4), dpi=80)\n",
    "sns.heatmap(df, annot=True, linewidths=.6, cmap=\"YlGnBu\")"
   ]
  },
  {
   "cell_type": "markdown",
   "id": "e4be9a15",
   "metadata": {},
   "source": [
    "# Поиск схожих частей верхних уровней, построенный на собственном алгоритме (работает долго, точность поиска не гаранитруется)"
   ]
  },
  {
   "cell_type": "code",
   "execution_count": 8,
   "id": "bc0ad23c",
   "metadata": {},
   "outputs": [],
   "source": [
    "from codeplag.algorithms.featurebased import struct_compare"
   ]
  },
  {
   "cell_type": "code",
   "execution_count": 9,
   "id": "d6f2c48a",
   "metadata": {},
   "outputs": [],
   "source": [
    "filename1 = Path(\"/usr/src/codeplag/src/codeplag/algorithms/stringbased.py\")\n",
    "filename2 = Path(\"/usr/src/codeplag/src/codeplag/algorithms/tokenbased.py\")\n",
    "tree1 = get_ast_from_filename(filename1)\n",
    "tree2 = get_ast_from_filename(filename2)\n",
    "features1 = get_features_from_ast(tree1, filename1)\n",
    "features2 = get_features_from_ast(tree2, filename2)"
   ]
  },
  {
   "cell_type": "code",
   "execution_count": 10,
   "id": "51ddcd56",
   "metadata": {},
   "outputs": [
    {
     "data": {
      "text/plain": [
       "<AxesSubplot:>"
      ]
     },
     "execution_count": 10,
     "metadata": {},
     "output_type": "execute_result"
    },
    {
     "data": {
      "text/plain": [
       "<Figure size 400x160 with 0 Axes>"
      ]
     },
     "metadata": {},
     "output_type": "display_data"
    },
    {
     "data": {
      "image/png": "[encoded data removed]",
      "text/plain": [
       "<Figure size 864x144 with 2 Axes>"
      ]
     },
     "metadata": {
      "needs_background": "light"
     },
     "output_type": "display_data"
    }
   ],
   "source": [
    "import matplotlib.pyplot as plt\n",
    "\n",
    "compliance_matrix = np.zeros((len(features1.head_nodes),\n",
    "                              len(features2.head_nodes), 2),\n",
    "                             dtype=np.int64)\n",
    "struct_res = struct_compare(features1.structure, features2.structure, compliance_matrix)\n",
    "data = np.zeros((compliance_matrix.shape[0],\n",
    "                 compliance_matrix.shape[1]),\n",
    "                dtype=np.float32)\n",
    "for row in range(compliance_matrix.shape[0]):\n",
    "    for col in range(compliance_matrix.shape[1]):\n",
    "        data[row][col] = (compliance_matrix[row][col][0] / compliance_matrix[row][col][1])\n",
    "\n",
    "df = pd.DataFrame(data=data, index=features1.head_nodes, columns=features2.head_nodes)\n",
    "figure(figsize=(5, 2), dpi=80)\n",
    "plt.figure(figsize=(12, 2))\n",
    "sns.heatmap(df, annot=True, linewidths=0.3, cmap=\"YlGnBu\")"
   ]
  },
  {
   "cell_type": "markdown",
   "id": "d2273f7f",
   "metadata": {},
   "source": [
    "# Вывод схожих фрагментов двух программ с помощью  Greedy String Tiling алгоритма"
   ]
  },
  {
   "cell_type": "code",
   "execution_count": 11,
   "id": "d1e8fbde",
   "metadata": {},
   "outputs": [],
   "source": [
    "from codeplag.pyplag.utils import get_ast_from_filename, get_features_from_ast"
   ]
  },
  {
   "cell_type": "code",
   "execution_count": 12,
   "id": "7cecf332",
   "metadata": {},
   "outputs": [],
   "source": [
    "from codeplag.algorithms.stringbased import gst\n",
    "\n",
    "answer = gst(features1.tokens, features2.tokens, 7)"
   ]
  },
  {
   "cell_type": "code",
   "execution_count": 13,
   "id": "25930af6",
   "metadata": {},
   "outputs": [
    {
     "name": "stdout",
     "output_type": "stream",
     "text": [
      "\u001b[91m\u001b[1m\n",
      "\u001b[0m\u001b[91m\u001b[1m \u001b[0m\u001b[91m\u001b[1m \u001b[0m\u001b[91m\u001b[1m \u001b[0m\u001b[91m\u001b[1m \u001b[0m\u001b[91m\u001b[1m \u001b[0m\u001b[91m\u001b[1m \u001b[0m\u001b[91m\u001b[1m \u001b[0m\u001b[91m\u001b[1m \u001b[0m\u001b[91m\u001b[1ms\u001b[0m\u001b[91m\u001b[1me\u001b[0m\u001b[91m\u001b[1ml\u001b[0m\u001b[91m\u001b[1mf\u001b[0m\u001b[91m\u001b[1m.\u001b[0m\u001b[91m\u001b[1ms\u001b[0m\u001b[91m\u001b[1m1\u001b[0m\u001b[91m\u001b[1m_\u001b[0m\u001b[91m\u001b[1ml\u001b[0m\u001b[91m\u001b[1me\u001b[0m\u001b[91m\u001b[1mn\u001b[0m\u001b[91m\u001b[1mg\u001b[0m\u001b[91m\u001b[1mt\u001b[0m\u001b[91m\u001b[1mh\u001b[0m\u001b[91m\u001b[1m \u001b[0m\u001b[91m\u001b[1m=\u001b[0m\u001b[91m\u001b[1m \u001b[0m\u001b[91m\u001b[1ml\u001b[0m\u001b[91m\u001b[1me\u001b[0m\u001b[91m\u001b[1mn\u001b[0m\u001b[91m\u001b[1m(\u001b[0m\u001b[91m\u001b[1ms\u001b[0m\u001b[91m\u001b[1me\u001b[0m\u001b[91m\u001b[1mq\u001b[0m\u001b[91m\u001b[1mu\u001b[0m\u001b[91m\u001b[1me\u001b[0m\u001b[91m\u001b[1mn\u001b[0m\u001b[91m\u001b[1mc\u001b[0m\u001b[91m\u001b[1me\u001b[0m\u001b[91m\u001b[1m1\u001b[0m\u001b[91m\u001b[1m)\u001b[0m\u001b[91m\u001b[1m\n",
      "\u001b[0m\u001b[91m\u001b[1m \u001b[0m\u001b[91m\u001b[1m \u001b[0m\u001b[91m\u001b[1m \u001b[0m\u001b[91m\u001b[1m \u001b[0m\u001b[91m\u001b[1m \u001b[0m\u001b[91m\u001b[1m \u001b[0m\u001b[91m\u001b[1m \u001b[0m\u001b[91m\u001b[1m \u001b[0m\u001b[91m\u001b[1ms\u001b[0m\u001b[91m\u001b[1me\u001b[0m\u001b[91m\u001b[1ml\u001b[0m\u001b[91m\u001b[1mf\u001b[0m\u001b[91m\u001b[1m.\u001b[0m\u001b[91m\u001b[1ms\u001b[0m\u001b[91m\u001b[1m2\u001b[0m\u001b[91m\u001b[1m_\u001b[0m\u001b[91m\u001b[1ml\u001b[0m\u001b[91m\u001b[1me\u001b[0m\u001b[91m\u001b[1mn\u001b[0m\u001b[91m\u001b[1mg\u001b[0m\u001b[91m\u001b[1mt\u001b[0m\u001b[91m\u001b[1mh\u001b[0m\u001b[91m\u001b[1m \u001b[0m\u001b[91m\u001b[1m=\u001b[0m\u001b[91m\u001b[1m \u001b[0m\u001b[91m\u001b[1ml\u001b[0m\u001b[91m\u001b[1me\u001b[0m\u001b[91m\u001b[1mn\u001b[0m\u001b[91m\u001b[1m(\u001b[0m\u001b[91m\u001b[1ms\u001b[0m\u001b[91m\u001b[1me\u001b[0m\u001b[91m\u001b[1mq\u001b[0m\u001b[91m\u001b[1mu\u001b[0m\u001b[91m\u001b[1me\u001b[0m\u001b[91m\u001b[1mn\u001b[0m\u001b[91m\u001b[1mc\u001b[0m\u001b[91m\u001b[1me\u001b[0m\u001b[91m\u001b[1m2\u001b[0m\u001b[91m\u001b[1m)\u001b[0m\u001b[91m\u001b[1m\n",
      "\u001b[0m\u001b[91m\u001b[1m \u001b[0m\u001b[91m\u001b[1m \u001b[0m\u001b[91m\u001b[1m \u001b[0m\u001b[91m\u001b[1m \u001b[0m\u001b[91m\u001b[1m \u001b[0m\u001b[91m\u001b[1m \u001b[0m\u001b[91m\u001b[1m \u001b[0m\u001b[91m\u001b[1m \u001b[0m\u001b[91m\u001b[1m\"\u001b[0m\u001b[91m\u001b[1m\"\u001b[0m\u001b[91m\u001b[1m\"\u001b[0m\u001b[91m\u001b[1mC\u001b[0m\u001b[91m\u001b[1ma\u001b[0m\u001b[91m\u001b[1ml\u001b[0m\u001b[91m\u001b[1mc\u001b[0m\u001b[91m\u001b[1mu\u001b[0m\u001b[91m\u001b[1ml\u001b[0m\u001b[91m\u001b[1ma\u001b[0m\u001b[91m\u001b[1mt\u001b[0m\u001b[91m\u001b[1me\u001b[0m\u001b[91m\u001b[1ms\u001b[0m\u001b[91m\u001b[1m \u001b[0m\u001b[91m\u001b[1mt\u001b[0m\u001b[91m\u001b[1mh\u001b[0m\u001b[91m\u001b[1me\u001b[0m\u001b[91m\u001b[1m \u001b[0m\u001b[91m\u001b[1mL\u001b[0m\u001b[91m\u001b[1me\u001b[0m\u001b[91m\u001b[1mv\u001b[0m\u001b[91m\u001b[1me\u001b[0m\u001b[91m\u001b[1mn\u001b[0m\u001b[91m\u001b[1ms\u001b[0m\u001b[91m\u001b[1mh\u001b[0m\u001b[91m\u001b[1mt\u001b[0m\u001b[91m\u001b[1me\u001b[0m\u001b[91m\u001b[1mi\u001b[0m\u001b[91m\u001b[1mn\u001b[0m\u001b[91m\u001b[1m \u001b[0m\u001b[91m\u001b[1md\u001b[0m\u001b[91m\u001b[1mi\u001b[0m\u001b[91m\u001b[1ms\u001b[0m\u001b[91m\u001b[1mt\u001b[0m\u001b[91m\u001b[1ma\u001b[0m\u001b[91m\u001b[1mn\u001b[0m\u001b[91m\u001b[1mc\u001b[0m\u001b[91m\u001b[1me\u001b[0m\u001b[91m\u001b[1m.\u001b[0m\u001b[91m\u001b[1m\n",
      "\u001b[0m\u001b[91m\u001b[1m \u001b[0m\u001b[91m\u001b[1m \u001b[0m\u001b[91m\u001b[1m \u001b[0m\u001b[91m\u001b[1m \u001b[0m\u001b[91m\u001b[1m \u001b[0m\u001b[91m\u001b[1m \u001b[0m\u001b[91m\u001b[1m \u001b[0m\u001b[91m\u001b[1m \u001b[0m\u001b[91m\u001b[1mf\u001b[0m\u001b[91m\u001b[1mo\u001b[0m\u001b[91m\u001b[1mr\u001b[0m\u001b[91m\u001b[1m \u001b[0m\u001b[91m\u001b[1mi\u001b[0m\u001b[91m\u001b[1m \u001b[0m\u001b[91m\u001b[1mi\u001b[0m\u001b[91m\u001b[1mn\u001b[0m\u001b[91m\u001b[1m \u001b[0m\u001b[91m\u001b[1mr\u001b[0m\u001b[91m\u001b[1ma\u001b[0m\u001b[91m\u001b[1mn\u001b[0m\u001b[91m\u001b[1mg\u001b[0m\u001b[91m\u001b[1me\u001b[0m\u001b[91m\u001b[1m(\u001b[0m\u001b[91m\u001b[1ms\u001b[0m\u001b[91m\u001b[1me\u001b[0m\u001b[91m\u001b[1ml\u001b[0m\u001b[91m\u001b[1mf\u001b[0m\u001b[91m\u001b[1m.\u001b[0m\u001b[91m\u001b[1ms\u001b[0m\u001b[91m\u001b[1m1\u001b[0m\u001b[91m\u001b[1m_\u001b[0m\u001b[91m\u001b[1ml\u001b[0m\u001b[91m\u001b[1me\u001b[0m\u001b[91m\u001b[1mn\u001b[0m\u001b[91m\u001b[1mg\u001b[0m\u001b[91m\u001b[1mt\u001b[0m\u001b[91m\u001b[1mh\u001b[0m\u001b[91m\u001b[1m \u001b[0m\u001b[91m\u001b[1m+\u001b[0m\u001b[91m\u001b[1m \u001b[0m\u001b[91m\u001b[1m1\u001b[0m\u001b[91m\u001b[1m)\u001b[0m\u001b[91m\u001b[1m:\u001b[0m\u001b[91m\u001b[1m\n",
      "\u001b[0m\u001b[91m\u001b[1m \u001b[0m\u001b[91m\u001b[1m \u001b[0m\u001b[91m\u001b[1m \u001b[0m\u001b[91m\u001b[1m \u001b[0m\u001b[91m\u001b[1m \u001b[0m\u001b[91m\u001b[1m \u001b[0m\u001b[91m\u001b[1m \u001b[0m\u001b[91m\u001b[1m \u001b[0m\u001b[91m\u001b[1m \u001b[0m\u001b[91m\u001b[1m \u001b[0m\u001b[91m\u001b[1m \u001b[0m\u001b[91m\u001b[1m \u001b[0m\u001b[91m\u001b[1m \u001b[0m\u001b[91m\u001b[1m \u001b[0m\u001b[91m\u001b[1m \u001b[0m\u001b[91m\u001b[1m \u001b[0m\u001b[91m\u001b[1ms\u001b[0m\u001b[91m\u001b[1my\u001b[0m\u001b[91m\u001b[1mm\u001b[0m\u001b[91m\u001b[1mb\u001b[0m\u001b[91m\u001b[1mo\u001b[0m\u001b[91m\u001b[1ml\u001b[0m\u001b[91m\u001b[1m2\u001b[0m\u001b[91m\u001b[1m \u001b[0m\u001b[91m\u001b[1m=\u001b[0m\u001b[91m\u001b[1m \u001b[0m\u001b[91m\u001b[1ms\u001b[0m\u001b[91m\u001b[1me\u001b[0m\u001b[91m\u001b[1ml\u001b[0m\u001b[91m\u001b[1mf\u001b[0m\u001b[91m\u001b[1m.\u001b[0m\u001b[91m\u001b[1ms\u001b[0m\u001b[91m\u001b[1me\u001b[0m\u001b[91m\u001b[1mq\u001b[0m\u001b[91m\u001b[1mu\u001b[0m\u001b[91m\u001b[1me\u001b[0m\u001b[91m\u001b[1mn\u001b[0m\u001b[91m\u001b[1mc\u001b[0m\u001b[91m\u001b[1me\u001b[0m\u001b[91m\u001b[1m2\u001b[0m\u001b[91m\u001b[1m[\u001b[0m\u001b[91m\u001b[1mc\u001b[0m\u001b[91m\u001b[1mo\u001b[0m\u001b[91m\u001b[1ml\u001b[0m\u001b[91m\u001b[1mu\u001b[0m\u001b[91m\u001b[1mm\u001b[0m\u001b[91m\u001b[1mn\u001b[0m\u001b[91m\u001b[1m \u001b[0m\u001b[91m\u001b[1m-\u001b[0m\u001b[91m\u001b[1m \u001b[0m\u001b[91m\u001b[1m1\u001b[0m\u001b[91m\u001b[1m]\u001b[0m\u001b[91m\u001b[1m\n",
      "\u001b[0m\u001b[91m\u001b[1m \u001b[0m\u001b[91m\u001b[1m \u001b[0m\u001b[91m\u001b[1m \u001b[0m\u001b[91m\u001b[1m \u001b[0m\u001b[91m\u001b[1m \u001b[0m\u001b[91m\u001b[1m \u001b[0m\u001b[91m\u001b[1m \u001b[0m\u001b[91m\u001b[1m \u001b[0m\u001b[91m\u001b[1m \u001b[0m\u001b[91m\u001b[1m \u001b[0m\u001b[91m\u001b[1m \u001b[0m\u001b[91m\u001b[1m \u001b[0m\u001b[91m\u001b[1m \u001b[0m\u001b[91m\u001b[1m \u001b[0m\u001b[91m\u001b[1m \u001b[0m\u001b[91m\u001b[1m \u001b[0m\u001b[91m\u001b[1mm\u001b[0m\u001b[91m\u001b[1mi\u001b[0m\u001b[91m\u001b[1mn\u001b[0m\u001b[91m\u001b[1mi\u001b[0m\u001b[91m\u001b[1mm\u001b[0m\u001b[91m\u001b[1mu\u001b[0m\u001b[91m\u001b[1mm\u001b[0m\u001b[91m\u001b[1m \u001b[0m\u001b[91m\u001b[1m=\u001b[0m\u001b[91m\u001b[1m \u001b[0m\u001b[91m\u001b[1mm\u001b[0m\u001b[91m\u001b[1mi\u001b[0m\u001b[91m\u001b[1mn\u001b[0m\u001b[91m\u001b[1m(\u001b[0m\u001b[91m\u001b[1m\n",
      "\u001b[0m\u001b[91m\u001b[1m \u001b[0m\u001b[91m\u001b[1m \u001b[0m\u001b[91m\u001b[1m \u001b[0m\u001b[91m\u001b[1m \u001b[0m\u001b[91m\u001b[1m \u001b[0m\u001b[91m\u001b[1m \u001b[0m\u001b[91m\u001b[1m \u001b[0m\u001b[91m\u001b[1m \u001b[0m\u001b[91m\u001b[1m \u001b[0m\u001b[91m\u001b[1m \u001b[0m\u001b[91m\u001b[1m \u001b[0m\u001b[91m\u001b[1m \u001b[0m\u001b[91m\u001b[1m \u001b[0m\u001b[91m\u001b[1m \u001b[0m\u001b[91m\u001b[1m \u001b[0m\u001b[91m\u001b[1m \u001b[0m\u001b[91m\u001b[1m \u001b[0m\u001b[91m\u001b[1m \u001b[0m\u001b[91m\u001b[1m \u001b[0m\u001b[91m\u001b[1m \u001b[0m\u001b[91m\u001b[1ms\u001b[0m\u001b[91m\u001b[1me\u001b[0m\u001b[91m\u001b[1ml\u001b[0m\u001b[91m\u001b[1mf\u001b[0m\u001b[91m\u001b[1m.\u001b[0m\u001b[91m\u001b[1md\u001b[0m\u001b[91m\u001b[1mi\u001b[0m\u001b[91m\u001b[1ms\u001b[0m\u001b[91m\u001b[1mt\u001b[0m\u001b[91m\u001b[1ma\u001b[0m\u001b[91m\u001b[1mn\u001b[0m\u001b[91m\u001b[1mc\u001b[0m\u001b[91m\u001b[1me\u001b[0m\u001b[91m\u001b[1m_\u001b[0m\u001b[91m\u001b[1mm\u001b[0m\u001b[91m\u001b[1ma\u001b[0m\u001b[91m\u001b[1mt\u001b[0m\u001b[91m\u001b[1mr\u001b[0m\u001b[91m\u001b[1mi\u001b[0m\u001b[91m\u001b[1mx\u001b[0m\u001b[91m\u001b[1m[\u001b[0m\u001b[91m\u001b[1mr\u001b[0m\u001b[91m\u001b[1mo\u001b[0m\u001b[91m\u001b[1mw\u001b[0m\u001b[91m\u001b[1m \u001b[0m\u001b[91m\u001b[1m-\u001b[0m\u001b[91m\u001b[1m \u001b[0m\u001b[91m\u001b[1m1\u001b[0m\u001b[91m\u001b[1m]\u001b[0m\u001b[91m\u001b[1m[\u001b[0m\u001b[91m\u001b[1mc\u001b[0m\u001b[91m\u001b[1mo\u001b[0m\u001b[91m\u001b[1ml\u001b[0m\u001b[91m\u001b[1mu\u001b[0m\u001b[91m\u001b[1mm\u001b[0m\u001b[91m\u001b[1mn\u001b[0m\u001b[91m\u001b[1m]\u001b[0m\u001b[91m\u001b[1m \u001b[0m\u001b[91m\u001b[1m+\u001b[0m\u001b[91m\u001b[1m \u001b[0m\u001b[91m\u001b[1m1\u001b[0m\u001b[91m\u001b[1m,\u001b[0m\u001b[91m\u001b[1m\n",
      "\u001b[0m\u001b[91m\u001b[1m \u001b[0m\u001b[91m\u001b[1m \u001b[0m\u001b[91m\u001b[1m \u001b[0m\u001b[91m\u001b[1m \u001b[0m\u001b[91m\u001b[1m \u001b[0m\u001b[91m\u001b[1m \u001b[0m\u001b[91m\u001b[1m \u001b[0m\u001b[91m\u001b[1m \u001b[0m\u001b[91m\u001b[1m \u001b[0m\u001b[91m\u001b[1m \u001b[0m\u001b[91m\u001b[1m \u001b[0m\u001b[91m\u001b[1m \u001b[0m\u001b[91m\u001b[1m \u001b[0m\u001b[91m\u001b[1m \u001b[0m\u001b[91m\u001b[1m \u001b[0m\u001b[91m\u001b[1m \u001b[0m\u001b[91m\u001b[1m \u001b[0m\u001b[91m\u001b[1m \u001b[0m\u001b[91m\u001b[1m \u001b[0m\u001b[91m\u001b[1m \u001b[0m\u001b[91m\u001b[1ms\u001b[0m\u001b[91m\u001b[1me\u001b[0m\u001b[91m\u001b[1ml\u001b[0m\u001b[91m\u001b[1mf\u001b[0m\u001b[91m\u001b[1m.\u001b[0m\u001b[91m\u001b[1md\u001b[0m\u001b[91m\u001b[1mi\u001b[0m\u001b[91m\u001b[1ms\u001b[0m\u001b[91m\u001b[1mt\u001b[0m\u001b[91m\u001b[1ma\u001b[0m\u001b[91m\u001b[1mn\u001b[0m\u001b[91m\u001b[1mc\u001b[0m\u001b[91m\u001b[1me\u001b[0m\u001b[91m\u001b[1m_\u001b[0m\u001b[91m\u001b[1mm\u001b[0m\u001b[91m\u001b[1ma\u001b[0m\u001b[91m\u001b[1mt\u001b[0m\u001b[91m\u001b[1mr\u001b[0m\u001b[91m\u001b[1mi\u001b[0m\u001b[91m\u001b[1mx\u001b[0m\u001b[91m\u001b[1m[\u001b[0m\u001b[91m\u001b[1mr\u001b[0m\u001b[91m\u001b[1mo\u001b[0m\u001b[91m\u001b[1mw\u001b[0m\u001b[91m\u001b[1m]\u001b[0m\u001b[91m\u001b[1m[\u001b[0m\u001b[91m\u001b[1mc\u001b[0m\u001b[91m\u001b[1mo\u001b[0m\u001b[91m\u001b[1ml\u001b[0m\u001b[91m\u001b[1mu\u001b[0m\u001b[91m\u001b[1mm\u001b[0m\u001b[91m\u001b[1mn\u001b[0m\u001b[91m\u001b[1m \u001b[0m\u001b[91m\u001b[1m-\u001b[0m\u001b[91m\u001b[1m \u001b[0m\u001b[91m\u001b[1m1\u001b[0m\u001b[91m\u001b[1m]\u001b[0m\u001b[91m\u001b[1m \u001b[0m\u001b[91m\u001b[1m+\u001b[0m\u001b[91m\u001b[1m \u001b[0m\u001b[91m\u001b[1m1\u001b[0m\u001b[91m\u001b[1m,\u001b[0m\u001b[91m\u001b[1m\n",
      "\u001b[0m\u001b[91m\u001b[1m \u001b[0m\u001b[91m\u001b[1m \u001b[0m\u001b[91m\u001b[1m \u001b[0m\u001b[91m\u001b[1m \u001b[0m\u001b[91m\u001b[1m \u001b[0m\u001b[91m\u001b[1m \u001b[0m\u001b[91m\u001b[1m \u001b[0m\u001b[91m\u001b[1m \u001b[0m\u001b[91m\u001b[1m \u001b[0m\u001b[91m\u001b[1m \u001b[0m\u001b[91m\u001b[1m \u001b[0m\u001b[91m\u001b[1m \u001b[0m\u001b[91m\u001b[1m \u001b[0m\u001b[91m\u001b[1m \u001b[0m\u001b[91m\u001b[1m \u001b[0m\u001b[91m\u001b[1m \u001b[0m\u001b[91m\u001b[1m \u001b[0m\u001b[91m\u001b[1m \u001b[0m\u001b[91m\u001b[1m \u001b[0m\u001b[91m\u001b[1m \u001b[0m\u001b[91m\u001b[1ms\u001b[0m\u001b[91m\u001b[1me\u001b[0m\u001b[91m\u001b[1ml\u001b[0m\u001b[91m\u001b[1mf\u001b[0m\u001b[91m\u001b[1m.\u001b[0m\u001b[91m\u001b[1md\u001b[0m\u001b[91m\u001b[1mi\u001b[0m\u001b[91m\u001b[1ms\u001b[0m\u001b[91m\u001b[1mt\u001b[0m\u001b[91m\u001b[1ma\u001b[0m\u001b[91m\u001b[1mn\u001b[0m\u001b[91m\u001b[1mc\u001b[0m\u001b[91m\u001b[1me\u001b[0m\u001b[91m\u001b[1m_\u001b[0m\u001b[91m\u001b[1mm\u001b[0m\u001b[91m\u001b[1ma\u001b[0m\u001b[91m\u001b[1mt\u001b[0m\u001b[91m\u001b[1mr\u001b[0m\u001b[91m\u001b[1mi\u001b[0m\u001b[91m\u001b[1mx\u001b[0m\u001b[91m\u001b[1m[\u001b[0m\u001b[91m\u001b[1mr\u001b[0m\u001b[91m\u001b[1mo\u001b[0m\u001b[91m\u001b[1mw\u001b[0m\u001b[91m\u001b[1m \u001b[0m\u001b[91m\u001b[1m-\u001b[0m\u001b[91m\u001b[1m \u001b[0m\u001b[91m\u001b[1m1\u001b[0m\u001b[91m\u001b[1m]\u001b[0m\u001b[91m\u001b[1m[\u001b[0m\u001b[91m\u001b[1mc\u001b[0m\u001b[91m\u001b[1mo\u001b[0m\u001b[91m\u001b[1ml\u001b[0m\u001b[91m\u001b[1mu\u001b[0m\u001b[91m\u001b[1mm\u001b[0m\u001b[91m\u001b[1mn\u001b[0m\u001b[91m\u001b[1m \u001b[0m\u001b[91m\u001b[1m-\u001b[0m\u001b[91m\u001b[1m \u001b[0m\u001b[91m\u001b[1m1\u001b[0m\u001b[91m\u001b[1m]\u001b[0m\u001b[91m\u001b[1m \u001b[0m\u001b[91m\u001b[1m+\u001b[0m\u001b[91m\u001b[1m \u001b[0m\u001b[91m\u001b[1ms\u001b[0m\u001b[91m\u001b[1me\u001b[0m\u001b[91m\u001b[1ml\u001b[0m\u001b[91m\u001b[1mf\u001b[0m\u001b[91m\u001b[1m.\u001b[0m\u001b[91m\u001b[1mm\u001b[0m\u001b[91m\u001b[1m(\u001b[0m\u001b[91m\u001b[1ms\u001b[0m\u001b[91m\u001b[1my\u001b[0m\u001b[91m\u001b[1mm\u001b[0m\u001b[91m\u001b[1mb\u001b[0m\u001b[91m\u001b[1mo\u001b[0m\u001b[91m\u001b[1ml\u001b[0m\u001b[91m\u001b[1m1\u001b[0m\u001b[91m\u001b[1m,\u001b[0m\u001b[91m\u001b[1m \u001b[0m\u001b[91m\u001b[1ms\u001b[0m\u001b[91m\u001b[1my\u001b[0m\u001b[91m\u001b[1mm\u001b[0m\u001b[91m\u001b[1mb\u001b[0m\u001b[91m\u001b[1mo\u001b[0m\u001b[91m\u001b[1ml\u001b[0m\u001b[91m\u001b[1m2\u001b[0m\u001b[91m\u001b[1m)\u001b[0m\u001b[91m\u001b[1m,\u001b[0m\u001b[91m\u001b[1m\n",
      "\u001b[0m\u001b[91m\u001b[1m \u001b[0m\u001b[91m\u001b[1m \u001b[0m\u001b[91m\u001b[1m \u001b[0m\u001b[91m\u001b[1m \u001b[0m\u001b[91m\u001b[1m \u001b[0m\u001b[91m\u001b[1m \u001b[0m\u001b[91m\u001b[1m \u001b[0m\u001b[91m\u001b[1m \u001b[0m\u001b[91m\u001b[1m \u001b[0m\u001b[91m\u001b[1m \u001b[0m\u001b[91m\u001b[1m \u001b[0m\u001b[91m\u001b[1m \u001b[0m\u001b[91m\u001b[1m \u001b[0m\u001b[91m\u001b[1m \u001b[0m\u001b[91m\u001b[1m \u001b[0m\u001b[91m\u001b[1m \u001b[0m\u001b[91m\u001b[1ms\u001b[0m\u001b[91m\u001b[1me\u001b[0m\u001b[91m\u001b[1ml\u001b[0m\u001b[91m\u001b[1mf\u001b[0m\u001b[91m\u001b[1m.\u001b[0m\u001b[91m\u001b[1md\u001b[0m\u001b[91m\u001b[1mi\u001b[0m\u001b[91m\u001b[1ms\u001b[0m\u001b[91m\u001b[1mt\u001b[0m\u001b[91m\u001b[1ma\u001b[0m\u001b[91m\u001b[1mn\u001b[0m\u001b[91m\u001b[1mc\u001b[0m\u001b[91m\u001b[1me\u001b[0m\u001b[91m\u001b[1m_\u001b[0m\u001b[91m\u001b[1mm\u001b[0m\u001b[91m\u001b[1ma\u001b[0m\u001b[91m\u001b[1mt\u001b[0m\u001b[91m\u001b[1mr\u001b[0m\u001b[91m\u001b[1mi\u001b[0m\u001b[91m\u001b[1mx\u001b[0m\u001b[91m\u001b[1m[\u001b[0m\u001b[91m\u001b[1mr\u001b[0m\u001b[91m\u001b[1mo\u001b[0m\u001b[91m\u001b[1mw\u001b[0m\u001b[91m\u001b[1m]\u001b[0m\u001b[91m\u001b[1m[\u001b[0m\u001b[91m\u001b[1mc\u001b[0m\u001b[91m\u001b[1mo\u001b[0m\u001b[91m\u001b[1ml\u001b[0m\u001b[91m\u001b[1mu\u001b[0m\u001b[91m\u001b[1mm\u001b[0m\u001b[91m\u001b[1mn\u001b[0m\u001b[91m\u001b[1m]\u001b[0m\u001b[91m\u001b[1m \u001b[0m\u001b[91m\u001b[1m=\u001b[0m\u001b[91m\u001b[1m \u001b[0m\u001b[91m\u001b[1mm\u001b[0m\u001b[91m\u001b[1mi\u001b[0m\u001b[91m\u001b[1mn\u001b[0m\u001b[91m\u001b[1mi\u001b[0m\u001b[91m\u001b[1mm\u001b[0m\u001b[91m\u001b[1mu\u001b[0m\u001b[91m\u001b[1mm\u001b[0m\u001b[91m\u001b[1m\n",
      "\u001b[0m\u001b[91m\u001b[1m \u001b[0m\u001b[91m\u001b[1m \u001b[0m\u001b[91m\u001b[1m \u001b[0m\u001b[91m\u001b[1m \u001b[0m\u001b[91m\u001b[1m \u001b[0m\u001b[91m\u001b[1m \u001b[0m\u001b[91m\u001b[1m \u001b[0m\u001b[91m\u001b[1m \u001b[0m\u001b[91m\u001b[1ms\u001b[0m\u001b[91m\u001b[1me\u001b[0m\u001b[91m\u001b[1ml\u001b[0m\u001b[91m\u001b[1mf\u001b[0m\u001b[91m\u001b[1m.\u001b[0m\u001b[91m\u001b[1md\u001b[0m\u001b[91m\u001b[1mi\u001b[0m\u001b[91m\u001b[1ms\u001b[0m\u001b[91m\u001b[1mt\u001b[0m\u001b[91m\u001b[1ma\u001b[0m\u001b[91m\u001b[1mn\u001b[0m\u001b[91m\u001b[1mc\u001b[0m\u001b[91m\u001b[1me\u001b[0m\u001b[91m\u001b[1m \u001b[0m\u001b[91m\u001b[1m=\u001b[0m\u001b[91m\u001b[1m \u001b[0m\u001b[91m\u001b[1ms\u001b[0m\u001b[91m\u001b[1me\u001b[0m\u001b[91m\u001b[1ml\u001b[0m\u001b[91m\u001b[1mf\u001b[0m\u001b[91m\u001b[1m.\u001b[0m\u001b[91m\u001b[1md\u001b[0m\u001b[91m\u001b[1mi\u001b[0m\u001b[91m\u001b[1ms\u001b[0m\u001b[91m\u001b[1mt\u001b[0m\u001b[91m\u001b[1ma\u001b[0m\u001b[91m\u001b[1mn\u001b[0m\u001b[91m\u001b[1mc\u001b[0m\u001b[91m\u001b[1me\u001b[0m\u001b[91m\u001b[1m_\u001b[0m\u001b[91m\u001b[1mm\u001b[0m\u001b[91m\u001b[1ma\u001b[0m\u001b[91m\u001b[1mt\u001b[0m\u001b[91m\u001b[1mr\u001b[0m\u001b[91m\u001b[1mi\u001b[0m\u001b[91m\u001b[1mx\u001b[0m\u001b[91m\u001b[1m[\u001b[0m\u001b[91m\u001b[1ms\u001b[0m\u001b[91m\u001b[1me\u001b[0m\u001b[91m\u001b[1ml\u001b[0m\u001b[91m\u001b[1mf\u001b[0m\u001b[91m\u001b[1m.\u001b[0m\u001b[91m\u001b[1ms\u001b[0m\u001b[91m\u001b[1m1\u001b[0m\u001b[91m\u001b[1m_\u001b[0m\u001b[91m\u001b[1ml\u001b[0m\u001b[91m\u001b[1me\u001b[0m\u001b[91m\u001b[1mn\u001b[0m\u001b[91m\u001b[1mg\u001b[0m\u001b[91m\u001b[1mt\u001b[0m\u001b[91m\u001b[1mh\u001b[0m\u001b[91m\u001b[1m]\u001b[0m\u001b[91m\u001b[1m[\u001b[0m\u001b[91m\u001b[1ms\u001b[0m\u001b[91m\u001b[1me\u001b[0m\u001b[91m\u001b[1ml\u001b[0m\u001b[91m\u001b[1mf\u001b[0m\u001b[91m\u001b[1m.\u001b[0m\u001b[91m\u001b[1ms\u001b[0m\u001b[91m\u001b[1m2\u001b[0m\u001b[91m\u001b[1m_\u001b[0m\u001b[91m\u001b[1ml\u001b[0m\u001b[91m\u001b[1me\u001b[0m\u001b[91m\u001b[1mn\u001b[0m\u001b[91m\u001b[1mg\u001b[0m\u001b[91m\u001b[1mt\u001b[0m\u001b[91m\u001b[1mh\u001b[0m\u001b[91m\u001b[1m]\u001b[0m\u001b[91m\u001b[1m\n",
      "\u001b[0m\u001b[91m\u001b[1m \u001b[0m\u001b[91m\u001b[1m \u001b[0m\u001b[91m\u001b[1m \u001b[0m\u001b[91m\u001b[1m \u001b[0m\u001b[91m\u001b[1md\u001b[0m\u001b[91m\u001b[1me\u001b[0m\u001b[91m\u001b[1mf\u001b[0m\u001b[91m\u001b[1m \u001b[0m\u001b[91m\u001b[1mg\u001b[0m\u001b[91m\u001b[1me\u001b[0m\u001b[91m\u001b[1mt\u001b[0m\u001b[91m\u001b[1m_\u001b[0m\u001b[91m\u001b[1ms\u001b[0m\u001b[91m\u001b[1mi\u001b[0m\u001b[91m\u001b[1mm\u001b[0m\u001b[91m\u001b[1mi\u001b[0m\u001b[91m\u001b[1ml\u001b[0m\u001b[91m\u001b[1ma\u001b[0m\u001b[91m\u001b[1mr\u001b[0m\u001b[91m\u001b[1mi\u001b[0m\u001b[91m\u001b[1mt\u001b[0m\u001b[91m\u001b[1my\u001b[0m\u001b[91m\u001b[1m_\u001b[0m\u001b[91m\u001b[1mv\u001b[0m\u001b[91m\u001b[1ma\u001b[0m\u001b[91m\u001b[1ml\u001b[0m\u001b[91m\u001b[1mu\u001b[0m\u001b[91m\u001b[1me\u001b[0m\u001b[91m\u001b[1m(\u001b[0m\u001b[91m\u001b[1ms\u001b[0m\u001b[91m\u001b[1me\u001b[0m\u001b[91m\u001b[1ml\u001b[0m\u001b[91m\u001b[1mf\u001b[0m\u001b[91m\u001b[1m:\u001b[0m\u001b[91m\u001b[1m \u001b[0m\u001b[91m\u001b[1mS\u001b[0m\u001b[91m\u001b[1me\u001b[0m\u001b[91m\u001b[1ml\u001b[0m\u001b[91m\u001b[1mf\u001b[0m\u001b[91m\u001b[1m)\u001b[0m\u001b[91m\u001b[1m \u001b[0m\u001b[91m\u001b[1m-\u001b[0m\u001b[91m\u001b[1m>\u001b[0m\u001b[91m\u001b[1m \u001b[0m\u001b[91m\u001b[1mf\u001b[0m\u001b[91m\u001b[1ml\u001b[0m\u001b[91m\u001b[1mo\u001b[0m\u001b[91m\u001b[1ma\u001b[0m\u001b[91m\u001b[1mt\u001b[0m\u001b[91m\u001b[1m:\u001b[0m\u001b[91m\u001b[1m\n",
      "\u001b[0m\u001b[91m\u001b[1m \u001b[0m\u001b[91m\u001b[1m \u001b[0m\u001b[91m\u001b[1m \u001b[0m\u001b[91m\u001b[1m \u001b[0m\u001b[91m\u001b[1m \u001b[0m\u001b[91m\u001b[1m \u001b[0m\u001b[91m\u001b[1m \u001b[0m\u001b[91m\u001b[1m \u001b[0m\u001b[91m\u001b[1mr\u001b[0m\u001b[91m\u001b[1me\u001b[0m\u001b[91m\u001b[1mt\u001b[0m\u001b[91m\u001b[1mu\u001b[0m\u001b[91m\u001b[1mr\u001b[0m\u001b[91m\u001b[1mn\u001b[0m\u001b[91m\u001b[1m \u001b[0m\u001b[91m\u001b[1m1\u001b[0m\u001b[91m\u001b[1m.\u001b[0m\u001b[91m\u001b[1m0\u001b[0m\u001b[91m\u001b[1m \u001b[0m\u001b[91m\u001b[1m-\u001b[0m\u001b[91m\u001b[1m \u001b[0m\u001b[91m\u001b[1ms\u001b[0m\u001b[91m\u001b[1me\u001b[0m\u001b[91m\u001b[1ml\u001b[0m\u001b[91m\u001b[1mf\u001b[0m\u001b[91m\u001b[1m.\u001b[0m\u001b[91m\u001b[1md\u001b[0m\u001b[91m\u001b[1mi\u001b[0m\u001b[91m\u001b[1ms\u001b[0m\u001b[91m\u001b[1mt\u001b[0m\u001b[91m\u001b[1ma\u001b[0m\u001b[91m\u001b[1mn\u001b[0m\u001b[91m\u001b[1mc\u001b[0m\u001b[91m\u001b[1me\u001b[0m\u001b[91m\u001b[1m \u001b[0m\u001b[91m\u001b[1m/\u001b[0m\u001b[91m\u001b[1m \u001b[0m\u001b[91m\u001b[1mm\u001b[0m\u001b[91m\u001b[1ma\u001b[0m\u001b[91m\u001b[1mx\u001b[0m\u001b[91m\u001b[1m(\u001b[0m\u001b[91m\u001b[1ms\u001b[0m\u001b[91m\u001b[1me\u001b[0m\u001b[91m\u001b[1ml\u001b[0m\u001b[91m\u001b[1mf\u001b[0m\u001b[91m\u001b[1m.\u001b[0m\u001b[91m\u001b[1ms\u001b[0m\u001b[91m\u001b[1m1\u001b[0m\u001b[91m\u001b[1m_\u001b[0m\u001b[91m\u001b[1ml\u001b[0m\u001b[91m\u001b[1me\u001b[0m\u001b[91m\u001b[1mn\u001b[0m\u001b[91m\u001b[1mg\u001b[0m\u001b[91m\u001b[1mt\u001b[0m\u001b[91m\u001b[1mh\u001b[0m\u001b[91m\u001b[1m,\u001b[0m\u001b[91m\u001b[1m \u001b[0m\u001b[91m\u001b[1ms\u001b[0m\u001b[91m\u001b[1me\u001b[0m\u001b[91m\u001b[1ml\u001b[0m\u001b[91m\u001b[1mf\u001b[0m\u001b[91m\u001b[1m.\u001b[0m\u001b[91m\u001b[1ms\u001b[0m\u001b[91m\u001b[1m2\u001b[0m\u001b[91m\u001b[1m_\u001b[0m\u001b[91m\u001b[1ml\u001b[0m\u001b[91m\u001b[1me\u001b[0m\u001b[91m\u001b[1mn\u001b[0m\u001b[91m\u001b[1mg\u001b[0m\u001b[91m\u001b[1mt\u001b[0m\u001b[91m\u001b[1mh\u001b[0m\u001b[91m\u001b[1m)\u001b[0m\u001b[91m\u001b[1m\n",
      "\u001b[0m\u001b[91m\u001b[1md\u001b[0m\u001b[91m\u001b[1me\u001b[0m\u001b[91m\u001b[1mf\u001b[0m\u001b[91m\u001b[1m \u001b[0m\u001b[91m\u001b[1mi\u001b[0m\u001b[91m\u001b[1ms\u001b[0m\u001b[91m\u001b[1m_\u001b[0m\u001b[91m\u001b[1mm\u001b[0m\u001b[91m\u001b[1ma\u001b[0m\u001b[91m\u001b[1mr\u001b[0m\u001b[91m\u001b[1mk\u001b[0m\u001b[91m\u001b[1me\u001b[0m\u001b[91m\u001b[1md\u001b[0m\u001b[91m\u001b[1m_\u001b[0m\u001b[91m\u001b[1mm\u001b[0m\u001b[91m\u001b[1ma\u001b[0m\u001b[91m\u001b[1mt\u001b[0m\u001b[91m\u001b[1mc\u001b[0m\u001b[91m\u001b[1mh\u001b[0m\u001b[91m\u001b[1m(\u001b[0m\u001b[91m\u001b[1mm\u001b[0m\u001b[91m\u001b[1ma\u001b[0m\u001b[91m\u001b[1mr\u001b[0m\u001b[91m\u001b[1mk\u001b[0m\u001b[91m\u001b[1me\u001b[0m\u001b[91m\u001b[1md\u001b[0m\u001b[91m\u001b[1m_\u001b[0m\u001b[91m\u001b[1ms\u001b[0m\u001b[91m\u001b[1mt\u001b[0m\u001b[91m\u001b[1mr\u001b[0m\u001b[91m\u001b[1mi\u001b[0m\u001b[91m\u001b[1mn\u001b[0m\u001b[91m\u001b[1mg\u001b[0m\u001b[91m\u001b[1m_\u001b[0m\u001b[91m\u001b[1ml\u001b[0m\u001b[91m\u001b[1mi\u001b[0m\u001b[91m\u001b[1ms\u001b[0m\u001b[91m\u001b[1mt\u001b[0m\u001b[91m\u001b[1m:\u001b[0m\u001b[91m\u001b[1m \u001b[0m\u001b[91m\u001b[1ml\u001b[0m\u001b[91m\u001b[1mi\u001b[0m\u001b[91m\u001b[1ms\u001b[0m\u001b[91m\u001b[1mt\u001b[0m\u001b[91m\u001b[1m[\u001b[0m\u001b[91m\u001b[1mi\u001b[0m\u001b[91m\u001b[1mn\u001b[0m\u001b[91m\u001b[1mt\u001b[0m\u001b[91m\u001b[1m]\u001b[0m\u001b[91m\u001b[1m,\u001b[0m\u001b[91m\u001b[1m \u001b[0m\u001b[91m\u001b[1mb\u001b[0m\u001b[91m\u001b[1me\u001b[0m\u001b[91m\u001b[1mg\u001b[0m\u001b[91m\u001b[1mi\u001b[0m\u001b[91m\u001b[1mn\u001b[0m\u001b[91m\u001b[1m:\u001b[0m\u001b[91m\u001b[1m \u001b[0m\u001b[91m\u001b[1mi\u001b[0m\u001b[91m\u001b[1mn\u001b[0m\u001b[91m\u001b[1mt\u001b[0m\u001b[91m\u001b[1m,\u001b[0m\u001b[91m\u001b[1m \u001b[0m\u001b[91m\u001b[1ml\u001b[0m\u001b[91m\u001b[1me\u001b[0m\u001b[91m\u001b[1mn\u001b[0m\u001b[91m\u001b[1mg\u001b[0m\u001b[91m\u001b[1mt\u001b[0m\u001b[91m\u001b[1mh\u001b[0m\u001b[91m\u001b[1m:\u001b[0m\u001b[91m\u001b[1m \u001b[0m\u001b[91m\u001b[1mi\u001b[0m\u001b[91m\u001b[1mn\u001b[0m\u001b[91m\u001b[1mt\u001b[0m\u001b[91m\u001b[1m)\u001b[0m\u001b[91m\u001b[1m \u001b[0m\u001b[91m\u001b[1m-\u001b[0m\u001b[91m\u001b[1m>\u001b[0m\u001b[91m\u001b[1m \u001b[0m\u001b[91m\u001b[1mb\u001b[0m\u001b[91m\u001b[1mo\u001b[0m\u001b[91m\u001b[1mo\u001b[0m\u001b[91m\u001b[1ml\u001b[0m\u001b[91m\u001b[1m:\u001b[0m\u001b[91m\u001b[1m\n",
      "\u001b[0m\u001b[91m\u001b[1m \u001b[0m\u001b[91m\u001b[1m \u001b[0m\u001b[91m\u001b[1m \u001b[0m\u001b[91m\u001b[1m \u001b[0m\u001b[91m\u001b[1m\"\u001b[0m\u001b[91m\u001b[1m\"\u001b[0m\u001b[91m\u001b[1m\"\u001b[0m\u001b[91m\u001b[1mT\u001b[0m\u001b[91m\u001b[1mh\u001b[0m\u001b[91m\u001b[1me\u001b[0m\u001b[91m\u001b[1m \u001b[0m\u001b[91m\u001b[1mf\u001b[0m\u001b[91m\u001b[1mu\u001b[0m\u001b[91m\u001b[1mn\u001b[0m\u001b[91m\u001b[1mc\u001b[0m\u001b[91m\u001b[1mt\u001b[0m\u001b[91m\u001b[1mi\u001b[0m\u001b[91m\u001b[1mo\u001b[0m\u001b[91m\u001b[1mn\u001b[0m\u001b[91m\u001b[1m \u001b[0m\u001b[91m\u001b[1mr\u001b[0m\u001b[91m\u001b[1me\u001b[0m\u001b[91m\u001b[1mt\u001b[0m\u001b[91m\u001b[1mu\u001b[0m\u001b[91m\u001b[1mr\u001b[0m\u001b[91m\u001b[1mn\u001b[0m\u001b[91m\u001b[1ms\u001b[0m\u001b[91m\u001b[1m \u001b[0m\u001b[91m\u001b[1mt\u001b[0m\u001b[91m\u001b[1mr\u001b[0m\u001b[91m\u001b[1mu\u001b[0m\u001b[91m\u001b[1me\u001b[0m\u001b[91m\u001b[1m \u001b[0m\u001b[91m\u001b[1mi\u001b[0m\u001b[91m\u001b[1mf\u001b[0m\u001b[91m\u001b[1m \u001b[0m\u001b[91m\u001b[1mt\u001b[0m\u001b[91m\u001b[1mh\u001b[0m\u001b[91m\u001b[1me\u001b[0m\u001b[91m\u001b[1m \u001b[0m\u001b[91m\u001b[1mm\u001b[0m\u001b[91m\u001b[1ma\u001b[0m\u001b[91m\u001b[1mt\u001b[0m\u001b[91m\u001b[1mc\u001b[0m\u001b[91m\u001b[1mh\u001b[0m\u001b[91m\u001b[1m \u001b[0m\u001b[91m\u001b[1mc\u001b[0m\u001b[91m\u001b[1mo\u001b[0m\u001b[91m\u001b[1mn\u001b[0m\u001b[91m\u001b[1ms\u001b[0m\u001b[91m\u001b[1mi\u001b[0m\u001b[91m\u001b[1ms\u001b[0m\u001b[91m\u001b[1mt\u001b[0m\u001b[91m\u001b[1ms\u001b[0m\u001b[91m\u001b[1m \u001b[0m\u001b[91m\u001b[1mi\u001b[0m\u001b[91m\u001b[1mn\u001b[0m\u001b[91m\u001b[1m \u001b[0m\u001b[91m\u001b[1mt\u001b[0m\u001b[91m\u001b[1mh\u001b[0m\u001b[91m\u001b[1me\u001b[0m\u001b[91m\u001b[1m \u001b[0m\u001b[91m\u001b[1mm\u001b[0m\u001b[91m\u001b[1ma\u001b[0m\u001b[91m\u001b[1mr\u001b[0m\u001b[91m\u001b[1mk\u001b[0m\u001b[91m\u001b[1me\u001b[0m\u001b[91m\u001b[1md\u001b[0m\u001b[91m\u001b[1m \u001b[0m\u001b[91m\u001b[1ml\u001b[0m\u001b[91m\u001b[1mi\u001b[0m\u001b[91m\u001b[1ms\u001b[0m\u001b[91m\u001b[1mt\u001b[0m\u001b[91m\u001b[1m,\u001b[0m\u001b[91m\u001b[1m \u001b[0m\u001b[91m\u001b[1me\u001b[0m\u001b[91m\u001b[1ml\u001b[0m\u001b[91m\u001b[1ms\u001b[0m\u001b[91m\u001b[1me\u001b[0m\u001b[91m\u001b[1m \u001b[0m\u001b[91m\u001b[1mf\u001b[0m\u001b[91m\u001b[1ma\u001b[0m\u001b[91m\u001b[1ml\u001b[0m\u001b[91m\u001b[1ms\u001b[0m\u001b[91m\u001b[1me\u001b[0m\u001b[91m\u001b[1m.\u001b[0m\u001b[91m\u001b[1m\n",
      "\u001b[0m\u001b[91m\u001b[1m \u001b[0m\u001b[91m\u001b[1m \u001b[0m\u001b[91m\u001b[1m \u001b[0m\u001b[91m\u001b[1m \u001b[0m\u001b[91m\u001b[1ms\u001b[0m\u001b[91m\u001b[1me\u001b[0m\u001b[91m\u001b[1mq\u001b[0m\u001b[91m\u001b[1mu\u001b[0m\u001b[91m\u001b[1me\u001b[0m\u001b[91m\u001b[1mn\u001b[0m\u001b[91m\u001b[1mc\u001b[0m\u001b[91m\u001b[1me\u001b[0m\u001b[91m\u001b[1m1\u001b[0m\u001b[91m\u001b[1m:\u001b[0m\u001b[91m\u001b[1m \u001b[0m\u001b[91m\u001b[1mS\u001b[0m\u001b[91m\u001b[1me\u001b[0m\u001b[91m\u001b[1mq\u001b[0m\u001b[91m\u001b[1mu\u001b[0m\u001b[91m\u001b[1me\u001b[0m\u001b[91m\u001b[1mn\u001b[0m\u001b[91m\u001b[1mc\u001b[0m\u001b[91m\u001b[1me\u001b[0m\u001b[91m\u001b[1m,\u001b[0m\u001b[91m\u001b[1m \u001b[0m\u001b[91m\u001b[1ms\u001b[0m\u001b[91m\u001b[1me\u001b[0m\u001b[91m\u001b[1mq\u001b[0m\u001b[91m\u001b[1mu\u001b[0m\u001b[91m\u001b[1me\u001b[0m\u001b[91m\u001b[1mn\u001b[0m\u001b[91m\u001b[1mc\u001b[0m\u001b[91m\u001b[1me\u001b[0m\u001b[91m\u001b[1m2\u001b[0m\u001b[91m\u001b[1m:\u001b[0m\u001b[91m\u001b[1m \u001b[0m\u001b[91m\u001b[1mS\u001b[0m\u001b[91m\u001b[1me\u001b[0m\u001b[91m\u001b[1mq\u001b[0m\u001b[91m\u001b[1mu\u001b[0m\u001b[91m\u001b[1me\u001b[0m\u001b[91m\u001b[1mn\u001b[0m\u001b[91m\u001b[1mc\u001b[0m\u001b[91m\u001b[1me\u001b[0m\u001b[91m\u001b[1m,\u001b[0m\u001b[91m\u001b[1m \u001b[0m\u001b[91m\u001b[1mm\u001b[0m\u001b[91m\u001b[1mi\u001b[0m\u001b[91m\u001b[1mn\u001b[0m\u001b[91m\u001b[1m_\u001b[0m\u001b[91m\u001b[1mm\u001b[0m\u001b[91m\u001b[1ma\u001b[0m\u001b[91m\u001b[1mt\u001b[0m\u001b[91m\u001b[1mc\u001b[0m\u001b[91m\u001b[1mh\u001b[0m\u001b[91m\u001b[1m_\u001b[0m\u001b[91m\u001b[1ml\u001b[0m\u001b[91m\u001b[1me\u001b[0m\u001b[91m\u001b[1mn\u001b[0m\u001b[91m\u001b[1m:\u001b[0m\u001b[91m\u001b[1m \u001b[0m\u001b[91m\u001b[1mi\u001b[0m\u001b[91m\u001b[1mn\u001b[0m\u001b[91m\u001b[1mt\u001b[0m\u001b[91m\u001b[1m \u001b[0m\u001b[91m\u001b[1m=\u001b[0m\u001b[91m\u001b[1m \u001b[0m\u001b[91m\u001b[1m6\u001b[0m\u001b[91m\u001b[1m\n",
      "\u001b[0m\u001b[91m\u001b[1m \u001b[0m\u001b[91m\u001b[1m \u001b[0m\u001b[91m\u001b[1m \u001b[0m\u001b[91m\u001b[1m \u001b[0m\u001b[91m\u001b[1m\"\u001b[0m\u001b[91m\u001b[1m\"\u001b[0m\u001b[91m\u001b[1m\"\u001b[0m\u001b[91m\u001b[1mT\u001b[0m\u001b[91m\u001b[1mh\u001b[0m\u001b[91m\u001b[1me\u001b[0m\u001b[91m\u001b[1m \u001b[0m\u001b[91m\u001b[1mG\u001b[0m\u001b[91m\u001b[1mr\u001b[0m\u001b[91m\u001b[1me\u001b[0m\u001b[91m\u001b[1me\u001b[0m\u001b[91m\u001b[1md\u001b[0m\u001b[91m\u001b[1my\u001b[0m\u001b[91m\u001b[1m \u001b[0m\u001b[91m\u001b[1mS\u001b[0m\u001b[91m\u001b[1mt\u001b[0m\u001b[91m\u001b[1mr\u001b[0m\u001b[91m\u001b[1mi\u001b[0m\u001b[91m\u001b[1mn\u001b[0m\u001b[91m\u001b[1mg\u001b[0m\u001b[91m\u001b[1m \u001b[0m\u001b[91m\u001b[1mT\u001b[0m\u001b[91m\u001b[1mi\u001b[0m\u001b[91m\u001b[1ml\u001b[0m\u001b[91m\u001b[1mi\u001b[0m\u001b[91m\u001b[1mn\u001b[0m\u001b[91m\u001b[1mg\u001b[0m\u001b[91m\u001b[1m \u001b[0m\u001b[91m\u001b[1ma\u001b[0m\u001b[91m\u001b[1ml\u001b[0m\u001b[91m\u001b[1mg\u001b[0m\u001b[91m\u001b[1mo\u001b[0m\u001b[91m\u001b[1mr\u001b[0m\u001b[91m\u001b[1mi\u001b[0m\u001b[91m\u001b[1mt\u001b[0m\u001b[91m\u001b[1mh\u001b[0m\u001b[91m\u001b[1mm\u001b[0m\u001b[91m\u001b[1m.\u001b[0m\u001b[91m\u001b[1m\n",
      "\u001b[0m\u001b[91m\u001b[1m \u001b[0m\u001b[91m\u001b[1m \u001b[0m\u001b[91m\u001b[1m \u001b[0m\u001b[91m\u001b[1m \u001b[0m\u001b[91m\u001b[1m \u001b[0m\u001b[91m\u001b[1m \u001b[0m\u001b[91m\u001b[1m \u001b[0m\u001b[91m\u001b[1m \u001b[0m\u001b[91m\u001b[1m \u001b[0m\u001b[91m\u001b[1m \u001b[0m\u001b[91m\u001b[1m \u001b[0m\u001b[91m\u001b[1m \u001b[0m\u001b[91m\u001b[1m \u001b[0m\u001b[91m\u001b[1m \u001b[0m\u001b[91m\u001b[1m \u001b[0m\u001b[91m\u001b[1m \u001b[0m\u001b[91m\u001b[1m \u001b[0m\u001b[91m\u001b[1m \u001b[0m\u001b[91m\u001b[1m \u001b[0m\u001b[91m\u001b[1m \u001b[0m\u001b[91m\u001b[1ma\u001b[0m\u001b[91m\u001b[1mn\u001b[0m\u001b[91m\u001b[1md\u001b[0m\u001b[91m\u001b[1m \u001b[0m\u001b[91m\u001b[1ms\u001b[0m\u001b[91m\u001b[1me\u001b[0m\u001b[91m\u001b[1mq\u001b[0m\u001b[91m\u001b[1mu\u001b[0m\u001b[91m\u001b[1me\u001b[0m\u001b[91m\u001b[1mn\u001b[0m\u001b[91m\u001b[1mc\u001b[0m\u001b[91m\u001b[1me\u001b[0m\u001b[91m\u001b[1m1\u001b[0m\u001b[91m\u001b[1m[\u001b[0m\u001b[91m\u001b[1mp\u001b[0m\u001b[91m\u001b[1m \u001b[0m\u001b[91m\u001b[1m+\u001b[0m\u001b[91m\u001b[1m \u001b[0m\u001b[91m\u001b[1mj\u001b[0m\u001b[91m\u001b[1m]\u001b[0m\u001b[91m\u001b[1m \u001b[0m\u001b[91m\u001b[1m=\u001b[0m\u001b[91m\u001b[1m=\u001b[0m\u001b[91m\u001b[1m \u001b[0m\u001b[91m\u001b[1ms\u001b[0m\u001b[91m\u001b[1me\u001b[0m\u001b[91m\u001b[1mq\u001b[0m\u001b[91m\u001b[1mu\u001b[0m\u001b[91m\u001b[1me\u001b[0m\u001b[91m\u001b[1mn\u001b[0m\u001b[91m\u001b[1mc\u001b[0m\u001b[91m\u001b[1me\u001b[0m\u001b[91m\u001b[1m2\u001b[0m\u001b[91m\u001b[1m[\u001b[0m\u001b[91m\u001b[1mt\u001b[0m\u001b[91m\u001b[1m \u001b[0m\u001b[91m\u001b[1m+\u001b[0m\u001b[91m\u001b[1m \u001b[0m\u001b[91m\u001b[1mj\u001b[0m\u001b[91m\u001b[1m]\u001b[0m\u001b[91m\u001b[1m\n",
      "\u001b[0m\u001b[91m\u001b[1m \u001b[0m\u001b[91m\u001b[1m \u001b[0m\u001b[91m\u001b[1m \u001b[0m\u001b[91m\u001b[1m \u001b[0m\u001b[91m\u001b[1m \u001b[0m\u001b[91m\u001b[1m \u001b[0m\u001b[91m\u001b[1m \u001b[0m\u001b[91m\u001b[1m \u001b[0m\u001b[91m\u001b[1m \u001b[0m\u001b[91m\u001b[1m \u001b[0m\u001b[91m\u001b[1m \u001b[0m\u001b[91m\u001b[1m \u001b[0m\u001b[91m\u001b[1m \u001b[0m\u001b[91m\u001b[1m \u001b[0m\u001b[91m\u001b[1m \u001b[0m\u001b[91m\u001b[1m \u001b[0m\u001b[91m\u001b[1m \u001b[0m\u001b[91m\u001b[1m \u001b[0m\u001b[91m\u001b[1m \u001b[0m\u001b[91m\u001b[1m \u001b[0m\u001b[91m\u001b[1ma\u001b[0m\u001b[91m\u001b[1mn\u001b[0m\u001b[91m\u001b[1md\u001b[0m\u001b[91m\u001b[1m \u001b[0m\u001b[91m\u001b[1m(\u001b[0m\u001b[91m\u001b[1mp\u001b[0m\u001b[91m\u001b[1m \u001b[0m\u001b[91m\u001b[1m+\u001b[0m\u001b[91m\u001b[1m \u001b[0m\u001b[91m\u001b[1mj\u001b[0m\u001b[91m\u001b[1m)\u001b[0m\u001b[91m\u001b[1m \u001b[0m\u001b[91m\u001b[1mn\u001b[0m\u001b[91m\u001b[1mo\u001b[0m\u001b[91m\u001b[1mt\u001b[0m\u001b[91m\u001b[1m \u001b[0m\u001b[91m\u001b[1mi\u001b[0m\u001b[91m\u001b[1mn\u001b[0m\u001b[91m\u001b[1m \u001b[0m\u001b[91m\u001b[1ms\u001b[0m\u001b[91m\u001b[1mo\u001b[0m\u001b[91m\u001b[1mu\u001b[0m\u001b[91m\u001b[1mr\u001b[0m\u001b[91m\u001b[1mc\u001b[0m\u001b[91m\u001b[1me\u001b[0m\u001b[91m\u001b[1m_\u001b[0m\u001b[91m\u001b[1mm\u001b[0m\u001b[91m\u001b[1ma\u001b[0m\u001b[91m\u001b[1mr\u001b[0m\u001b[91m\u001b[1mk\u001b[0m\u001b[91m\u001b[1me\u001b[0m\u001b[91m\u001b[1md\u001b[0m"
     ]
    }
   ],
   "source": [
    "from codeplag.display import print_suspect_parts\n",
    "\n",
    "with open(filename1, 'r') as f:\n",
    "    text1 = f.read()\n",
    "\n",
    "with open(filename2, 'r') as f:\n",
    "    text2 = f.read()\n",
    "\n",
    "print_suspect_parts(text1, answer[0], features1.tokens_pos)"
   ]
  },
  {
   "cell_type": "code",
   "execution_count": 14,
   "id": "0e2db99a",
   "metadata": {},
   "outputs": [
    {
     "name": "stdout",
     "output_type": "stream",
     "text": [
      "\u001b[91m\u001b[1m\n",
      "\u001b[0m\u001b[91m\u001b[1m@\u001b[0m\u001b[91m\u001b[1mo\u001b[0m\u001b[91m\u001b[1mv\u001b[0m\u001b[91m\u001b[1me\u001b[0m\u001b[91m\u001b[1mr\u001b[0m\u001b[91m\u001b[1ml\u001b[0m\u001b[91m\u001b[1mo\u001b[0m\u001b[91m\u001b[1ma\u001b[0m\u001b[91m\u001b[1md\u001b[0m\u001b[91m\u001b[1m\n",
      "\u001b[0m\u001b[91m\u001b[1m)\u001b[0m\u001b[91m\u001b[1m \u001b[0m\u001b[91m\u001b[1m-\u001b[0m\u001b[91m\u001b[1m>\u001b[0m\u001b[91m\u001b[1m \u001b[0m\u001b[91m\u001b[1ml\u001b[0m\u001b[91m\u001b[1mi\u001b[0m\u001b[91m\u001b[1ms\u001b[0m\u001b[91m\u001b[1mt\u001b[0m\u001b[91m\u001b[1m[\u001b[0m\u001b[91m\u001b[1mi\u001b[0m\u001b[91m\u001b[1mn\u001b[0m\u001b[91m\u001b[1mt\u001b[0m\u001b[91m\u001b[1m]\u001b[0m\u001b[91m\u001b[1m:\u001b[0m\u001b[91m\u001b[1m \u001b[0m\u001b[91m\u001b[1m.\u001b[0m\u001b[91m\u001b[1m.\u001b[0m\u001b[91m\u001b[1m.\u001b[0m\u001b[91m\u001b[1m\n",
      "\u001b[0m\u001b[91m\u001b[1md\u001b[0m\u001b[91m\u001b[1me\u001b[0m\u001b[91m\u001b[1mf\u001b[0m\u001b[91m\u001b[1m \u001b[0m\u001b[91m\u001b[1mg\u001b[0m\u001b[91m\u001b[1me\u001b[0m\u001b[91m\u001b[1mn\u001b[0m\u001b[91m\u001b[1me\u001b[0m\u001b[91m\u001b[1mr\u001b[0m\u001b[91m\u001b[1ma\u001b[0m\u001b[91m\u001b[1mt\u001b[0m\u001b[91m\u001b[1me\u001b[0m\u001b[91m\u001b[1m_\u001b[0m\u001b[91m\u001b[1mn\u001b[0m\u001b[91m\u001b[1mg\u001b[0m\u001b[91m\u001b[1mr\u001b[0m\u001b[91m\u001b[1ma\u001b[0m\u001b[91m\u001b[1mm\u001b[0m\u001b[91m\u001b[1ms\u001b[0m\u001b[91m\u001b[1m(\u001b[0m\u001b[91m\u001b[1m\n",
      "\u001b[0m\u001b[91m\u001b[1m \u001b[0m\u001b[91m\u001b[1m \u001b[0m\u001b[91m\u001b[1m \u001b[0m\u001b[91m\u001b[1m \u001b[0m\u001b[91m\u001b[1mt\u001b[0m\u001b[91m\u001b[1mo\u001b[0m\u001b[91m\u001b[1mk\u001b[0m\u001b[91m\u001b[1me\u001b[0m\u001b[91m\u001b[1mn\u001b[0m\u001b[91m\u001b[1ms\u001b[0m\u001b[91m\u001b[1m:\u001b[0m\u001b[91m\u001b[1m \u001b[0m\u001b[91m\u001b[1mS\u001b[0m\u001b[91m\u001b[1me\u001b[0m\u001b[91m\u001b[1mq\u001b[0m\u001b[91m\u001b[1mu\u001b[0m\u001b[91m\u001b[1me\u001b[0m\u001b[91m\u001b[1mn\u001b[0m\u001b[91m\u001b[1mc\u001b[0m\u001b[91m\u001b[1me\u001b[0m\u001b[91m\u001b[1m[\u001b[0m\u001b[91m\u001b[1mi\u001b[0m\u001b[91m\u001b[1mn\u001b[0m\u001b[91m\u001b[1mt\u001b[0m\u001b[91m\u001b[1m]\u001b[0m\u001b[91m\u001b[1m,\u001b[0m\u001b[91m\u001b[1m \u001b[0m\u001b[91m\u001b[1mn\u001b[0m\u001b[91m\u001b[1m:\u001b[0m\u001b[91m\u001b[1m \u001b[0m\u001b[91m\u001b[1mi\u001b[0m\u001b[91m\u001b[1mn\u001b[0m\u001b[91m\u001b[1mt\u001b[0m\u001b[91m\u001b[1m,\u001b[0m\u001b[91m\u001b[1m \u001b[0m\u001b[91m\u001b[1mh\u001b[0m\u001b[91m\u001b[1ma\u001b[0m\u001b[91m\u001b[1ms\u001b[0m\u001b[91m\u001b[1mh\u001b[0m\u001b[91m\u001b[1mi\u001b[0m\u001b[91m\u001b[1mt\u001b[0m\u001b[91m\u001b[1m:\u001b[0m\u001b[91m\u001b[1m \u001b[0m\u001b[91m\u001b[1mL\u001b[0m\u001b[91m\u001b[1mi\u001b[0m\u001b[91m\u001b[1mt\u001b[0m\u001b[91m\u001b[1me\u001b[0m\u001b[91m\u001b[1mr\u001b[0m\u001b[91m\u001b[1ma\u001b[0m\u001b[91m\u001b[1ml\u001b[0m\u001b[91m\u001b[1m[\u001b[0m\u001b[91m\u001b[1mT\u001b[0m\u001b[91m\u001b[1mr\u001b[0m\u001b[91m\u001b[1mu\u001b[0m\u001b[91m\u001b[1me\u001b[0m\u001b[91m\u001b[1m]\u001b[0m\u001b[91m\u001b[1m,\u001b[0m\u001b[91m\u001b[1m \u001b[0m\u001b[91m\u001b[1mu\u001b[0m\u001b[91m\u001b[1mn\u001b[0m\u001b[91m\u001b[1mi\u001b[0m\u001b[91m\u001b[1mq\u001b[0m\u001b[91m\u001b[1mu\u001b[0m\u001b[91m\u001b[1me\u001b[0m\u001b[91m\u001b[1m:\u001b[0m\u001b[91m\u001b[1m \u001b[0m\u001b[91m\u001b[1mL\u001b[0m\u001b[91m\u001b[1mi\u001b[0m\u001b[91m\u001b[1mt\u001b[0m\u001b[91m\u001b[1me\u001b[0m\u001b[91m\u001b[1mr\u001b[0m\u001b[91m\u001b[1ma\u001b[0m\u001b[91m\u001b[1ml\u001b[0m\u001b[91m\u001b[1m[\u001b[0m\u001b[91m\u001b[1mT\u001b[0m\u001b[91m\u001b[1mr\u001b[0m\u001b[91m\u001b[1mu\u001b[0m\u001b[91m\u001b[1me\u001b[0m\u001b[91m\u001b[1m]\u001b[0m\u001b[91m\u001b[1m\n",
      "\u001b[0m\u001b[91m\u001b[1m \u001b[0m\u001b[91m\u001b[1m \u001b[0m\u001b[91m\u001b[1m \u001b[0m\u001b[91m\u001b[1m \u001b[0m\u001b[91m\u001b[1mt\u001b[0m\u001b[91m\u001b[1mo\u001b[0m\u001b[91m\u001b[1mk\u001b[0m\u001b[91m\u001b[1me\u001b[0m\u001b[91m\u001b[1mn\u001b[0m\u001b[91m\u001b[1ms\u001b[0m\u001b[91m\u001b[1m:\u001b[0m\u001b[91m\u001b[1m \u001b[0m\u001b[91m\u001b[1mS\u001b[0m\u001b[91m\u001b[1me\u001b[0m\u001b[91m\u001b[1mq\u001b[0m\u001b[91m\u001b[1mu\u001b[0m\u001b[91m\u001b[1me\u001b[0m\u001b[91m\u001b[1mn\u001b[0m\u001b[91m\u001b[1mc\u001b[0m\u001b[91m\u001b[1me\u001b[0m\u001b[91m\u001b[1m[\u001b[0m\u001b[91m\u001b[1mi\u001b[0m\u001b[91m\u001b[1mn\u001b[0m\u001b[91m\u001b[1mt\u001b[0m\u001b[91m\u001b[1m]\u001b[0m\u001b[91m\u001b[1m,\u001b[0m\u001b[91m\u001b[1m \u001b[0m\u001b[91m\u001b[1mn\u001b[0m\u001b[91m\u001b[1m:\u001b[0m\u001b[91m\u001b[1m \u001b[0m\u001b[91m\u001b[1mi\u001b[0m\u001b[91m\u001b[1mn\u001b[0m\u001b[91m\u001b[1mt\u001b[0m\u001b[91m\u001b[1m \u001b[0m\u001b[91m\u001b[1m=\u001b[0m\u001b[91m\u001b[1m \u001b[0m\u001b[91m\u001b[1m3\u001b[0m\u001b[91m\u001b[1m,\u001b[0m\u001b[91m\u001b[1m \u001b[0m\u001b[91m\u001b[1mh\u001b[0m\u001b[91m\u001b[1ma\u001b[0m\u001b[91m\u001b[1ms\u001b[0m\u001b[91m\u001b[1mh\u001b[0m\u001b[91m\u001b[1mi\u001b[0m\u001b[91m\u001b[1mt\u001b[0m\u001b[91m\u001b[1m:\u001b[0m\u001b[91m\u001b[1m \u001b[0m\u001b[91m\u001b[1mb\u001b[0m\u001b[91m\u001b[1mo\u001b[0m\u001b[91m\u001b[1mo\u001b[0m\u001b[91m\u001b[1ml\u001b[0m\u001b[91m\u001b[1m \u001b[0m\u001b[91m\u001b[1m=\u001b[0m\u001b[91m\u001b[1m \u001b[0m\u001b[91m\u001b[1mF\u001b[0m\u001b[91m\u001b[1ma\u001b[0m\u001b[91m\u001b[1ml\u001b[0m\u001b[91m\u001b[1ms\u001b[0m\u001b[91m\u001b[1me\u001b[0m\u001b[91m\u001b[1m,\u001b[0m\u001b[91m\u001b[1m \u001b[0m\u001b[91m\u001b[1mu\u001b[0m\u001b[91m\u001b[1mn\u001b[0m\u001b[91m\u001b[1mi\u001b[0m\u001b[91m\u001b[1mq\u001b[0m\u001b[91m\u001b[1mu\u001b[0m\u001b[91m\u001b[1me\u001b[0m\u001b[91m\u001b[1m:\u001b[0m\u001b[91m\u001b[1m \u001b[0m\u001b[91m\u001b[1mb\u001b[0m\u001b[91m\u001b[1mo\u001b[0m\u001b[91m\u001b[1mo\u001b[0m\u001b[91m\u001b[1ml\u001b[0m\u001b[91m\u001b[1m \u001b[0m\u001b[91m\u001b[1m=\u001b[0m\u001b[91m\u001b[1m \u001b[0m\u001b[91m\u001b[1mF\u001b[0m\u001b[91m\u001b[1ma\u001b[0m\u001b[91m\u001b[1ml\u001b[0m\u001b[91m\u001b[1ms\u001b[0m\u001b[91m\u001b[1me\u001b[0m\u001b[91m\u001b[1m\n",
      "\u001b[0m\u001b[91m\u001b[1m)\u001b[0m\u001b[91m\u001b[1m \u001b[0m\u001b[91m\u001b[1m-\u001b[0m\u001b[91m\u001b[1m>\u001b[0m\u001b[91m\u001b[1m \u001b[0m\u001b[91m\u001b[1ms\u001b[0m\u001b[91m\u001b[1me\u001b[0m\u001b[91m\u001b[1mt\u001b[0m\u001b[91m\u001b[1m[\u001b[0m\u001b[91m\u001b[1mi\u001b[0m\u001b[91m\u001b[1mn\u001b[0m\u001b[91m\u001b[1mt\u001b[0m\u001b[91m\u001b[1m]\u001b[0m\u001b[91m\u001b[1m \u001b[0m\u001b[91m\u001b[1m|\u001b[0m\u001b[91m\u001b[1m \u001b[0m\u001b[91m\u001b[1ml\u001b[0m\u001b[91m\u001b[1mi\u001b[0m\u001b[91m\u001b[1ms\u001b[0m\u001b[91m\u001b[1mt\u001b[0m\u001b[91m\u001b[1m[\u001b[0m\u001b[91m\u001b[1mi\u001b[0m\u001b[91m\u001b[1mn\u001b[0m\u001b[91m\u001b[1mt\u001b[0m\u001b[91m\u001b[1m]\u001b[0m\u001b[91m\u001b[1m \u001b[0m\u001b[91m\u001b[1m|\u001b[0m\u001b[91m\u001b[1m \u001b[0m\u001b[91m\u001b[1ms\u001b[0m\u001b[91m\u001b[1me\u001b[0m\u001b[91m\u001b[1mt\u001b[0m\u001b[91m\u001b[1m[\u001b[0m\u001b[91m\u001b[1mt\u001b[0m\u001b[91m\u001b[1mu\u001b[0m\u001b[91m\u001b[1mp\u001b[0m\u001b[91m\u001b[1ml\u001b[0m\u001b[91m\u001b[1me\u001b[0m\u001b[91m\u001b[1m[\u001b[0m\u001b[91m\u001b[1mi\u001b[0m\u001b[91m\u001b[1mn\u001b[0m\u001b[91m\u001b[1mt\u001b[0m\u001b[91m\u001b[1m,\u001b[0m\u001b[91m\u001b[1m \u001b[0m\u001b[91m\u001b[1m.\u001b[0m\u001b[91m\u001b[1m.\u001b[0m\u001b[91m\u001b[1m.\u001b[0m\u001b[91m\u001b[1m]\u001b[0m\u001b[91m\u001b[1m]\u001b[0m\u001b[91m\u001b[1m \u001b[0m\u001b[91m\u001b[1m|\u001b[0m\u001b[91m\u001b[1m \u001b[0m\u001b[91m\u001b[1ml\u001b[0m\u001b[91m\u001b[1mi\u001b[0m\u001b[91m\u001b[1ms\u001b[0m\u001b[91m\u001b[1mt\u001b[0m\u001b[91m\u001b[1m[\u001b[0m\u001b[91m\u001b[1mt\u001b[0m\u001b[91m\u001b[1mu\u001b[0m\u001b[91m\u001b[1mp\u001b[0m\u001b[91m\u001b[1ml\u001b[0m\u001b[91m\u001b[1me\u001b[0m\u001b[91m\u001b[1m[\u001b[0m\u001b[91m\u001b[1mi\u001b[0m\u001b[91m\u001b[1mn\u001b[0m\u001b[91m\u001b[1mt\u001b[0m\u001b[91m\u001b[1m,\u001b[0m\u001b[91m\u001b[1m \u001b[0m\u001b[91m\u001b[1m.\u001b[0m\u001b[91m\u001b[1m.\u001b[0m\u001b[91m\u001b[1m.\u001b[0m\u001b[91m\u001b[1m]\u001b[0m\u001b[91m\u001b[1m]\u001b[0m\u001b[91m\u001b[1m:\u001b[0m\u001b[91m\u001b[1m \u001b[0m\u001b[91m\u001b[1m.\u001b[0m\u001b[91m\u001b[1m.\u001b[0m\u001b[91m\u001b[1m.\u001b[0m\u001b[91m\u001b[1m\n",
      "\u001b[0m\u001b[91m\u001b[1m \u001b[0m\u001b[91m\u001b[1m \u001b[0m\u001b[91m\u001b[1m \u001b[0m\u001b[91m\u001b[1m \u001b[0m\u001b[91m\u001b[1mc\u001b[0m\u001b[91m\u001b[1mo\u001b[0m\u001b[91m\u001b[1mu\u001b[0m\u001b[91m\u001b[1mn\u001b[0m\u001b[91m\u001b[1mt\u001b[0m\u001b[91m\u001b[1m_\u001b[0m\u001b[91m\u001b[1mh\u001b[0m\u001b[91m\u001b[1ma\u001b[0m\u001b[91m\u001b[1ms\u001b[0m\u001b[91m\u001b[1mh\u001b[0m\u001b[91m\u001b[1me\u001b[0m\u001b[91m\u001b[1ms\u001b[0m\u001b[91m\u001b[1m \u001b[0m\u001b[91m\u001b[1m=\u001b[0m\u001b[91m\u001b[1m \u001b[0m\u001b[91m\u001b[1ml\u001b[0m\u001b[91m\u001b[1me\u001b[0m\u001b[91m\u001b[1mn\u001b[0m\u001b[91m\u001b[1m(\u001b[0m\u001b[91m\u001b[1mh\u001b[0m\u001b[91m\u001b[1ma\u001b[0m\u001b[91m\u001b[1ms\u001b[0m\u001b[91m\u001b[1mh\u001b[0m\u001b[91m\u001b[1me\u001b[0m\u001b[91m\u001b[1ms\u001b[0m\u001b[91m\u001b[1m)\u001b[0m\u001b[91m\u001b[1m\n",
      "\u001b[0m\u001b[91m\u001b[1m \u001b[0m\u001b[91m\u001b[1m \u001b[0m\u001b[91m\u001b[1m \u001b[0m\u001b[91m\u001b[1m \u001b[0m\u001b[91m\u001b[1mk\u001b[0m\u001b[91m\u001b[1m \u001b[0m\u001b[91m\u001b[1m=\u001b[0m\u001b[91m\u001b[1m \u001b[0m\u001b[91m\u001b[1mm\u001b[0m\u001b[91m\u001b[1ma\u001b[0m\u001b[91m\u001b[1mt\u001b[0m\u001b[91m\u001b[1mh\u001b[0m\u001b[91m\u001b[1m.\u001b[0m\u001b[91m\u001b[1mf\u001b[0m\u001b[91m\u001b[1ml\u001b[0m\u001b[91m\u001b[1mo\u001b[0m\u001b[91m\u001b[1mo\u001b[0m\u001b[91m\u001b[1mr\u001b[0m\u001b[91m\u001b[1m(\u001b[0m\u001b[91m\u001b[1mm\u001b[0m\u001b[91m\u001b[1ma\u001b[0m\u001b[91m\u001b[1mt\u001b[0m\u001b[91m\u001b[1mh\u001b[0m\u001b[91m\u001b[1m.\u001b[0m\u001b[91m\u001b[1ml\u001b[0m\u001b[91m\u001b[1mo\u001b[0m\u001b[91m\u001b[1mg\u001b[0m\u001b[91m\u001b[1m(\u001b[0m\u001b[91m\u001b[1mc\u001b[0m\u001b[91m\u001b[1mo\u001b[0m\u001b[91m\u001b[1mu\u001b[0m\u001b[91m\u001b[1mn\u001b[0m\u001b[91m\u001b[1mt\u001b[0m\u001b[91m\u001b[1m_\u001b[0m\u001b[91m\u001b[1mh\u001b[0m\u001b[91m\u001b[1ma\u001b[0m\u001b[91m\u001b[1ms\u001b[0m\u001b[91m\u001b[1mh\u001b[0m\u001b[91m\u001b[1me\u001b[0m\u001b[91m\u001b[1ms\u001b[0m\u001b[91m\u001b[1m,\u001b[0m\u001b[91m\u001b[1m \u001b[0m\u001b[91m\u001b[1m2\u001b[0m\u001b[91m\u001b[1m)\u001b[0m\u001b[91m\u001b[1m)\u001b[0m\u001b[91m\u001b[1m\n",
      "\u001b[0m\u001b[91m\u001b[1m \u001b[0m\u001b[91m\u001b[1m \u001b[0m\u001b[91m\u001b[1m \u001b[0m\u001b[91m\u001b[1m \u001b[0m\u001b[91m\u001b[1mi\u001b[0m\u001b[91m\u001b[1mn\u001b[0m\u001b[91m\u001b[1mt\u001b[0m\u001b[91m\u001b[1me\u001b[0m\u001b[91m\u001b[1mr\u001b[0m\u001b[91m\u001b[1ms\u001b[0m\u001b[91m\u001b[1me\u001b[0m\u001b[91m\u001b[1mc\u001b[0m\u001b[91m\u001b[1mt\u001b[0m\u001b[91m\u001b[1mi\u001b[0m\u001b[91m\u001b[1mo\u001b[0m\u001b[91m\u001b[1mn\u001b[0m\u001b[91m\u001b[1m \u001b[0m\u001b[91m\u001b[1m=\u001b[0m\u001b[91m\u001b[1m \u001b[0m\u001b[91m\u001b[1ml\u001b[0m\u001b[91m\u001b[1me\u001b[0m\u001b[91m\u001b[1mn\u001b[0m\u001b[91m\u001b[1m(\u001b[0m\u001b[91m\u001b[1mn\u001b[0m\u001b[91m\u001b[1mg\u001b[0m\u001b[91m\u001b[1mr\u001b[0m\u001b[91m\u001b[1ma\u001b[0m\u001b[91m\u001b[1mm\u001b[0m\u001b[91m\u001b[1ms\u001b[0m\u001b[91m\u001b[1m_\u001b[0m\u001b[91m\u001b[1mf\u001b[0m\u001b[91m\u001b[1mi\u001b[0m\u001b[91m\u001b[1mr\u001b[0m\u001b[91m\u001b[1ms\u001b[0m\u001b[91m\u001b[1mt\u001b[0m\u001b[91m\u001b[1m.\u001b[0m\u001b[91m\u001b[1mi\u001b[0m\u001b[91m\u001b[1mn\u001b[0m\u001b[91m\u001b[1mt\u001b[0m\u001b[91m\u001b[1me\u001b[0m\u001b[91m\u001b[1mr\u001b[0m\u001b[91m\u001b[1ms\u001b[0m\u001b[91m\u001b[1me\u001b[0m\u001b[91m\u001b[1mc\u001b[0m\u001b[91m\u001b[1mt\u001b[0m\u001b[91m\u001b[1mi\u001b[0m\u001b[91m\u001b[1mo\u001b[0m\u001b[91m\u001b[1mn\u001b[0m\u001b[91m\u001b[1m(\u001b[0m\u001b[91m\u001b[1mn\u001b[0m\u001b[91m\u001b[1mg\u001b[0m\u001b[91m\u001b[1mr\u001b[0m\u001b[91m\u001b[1ma\u001b[0m\u001b[91m\u001b[1mm\u001b[0m\u001b[91m\u001b[1ms\u001b[0m\u001b[91m\u001b[1m_\u001b[0m\u001b[91m\u001b[1ms\u001b[0m\u001b[91m\u001b[1me\u001b[0m\u001b[91m\u001b[1mc\u001b[0m\u001b[91m\u001b[1mo\u001b[0m\u001b[91m\u001b[1mn\u001b[0m\u001b[91m\u001b[1md\u001b[0m\u001b[91m\u001b[1m)\u001b[0m\u001b[91m\u001b[1m)\u001b[0m\u001b[91m\u001b[1m\n",
      "\u001b[0m\u001b[91m\u001b[1m \u001b[0m\u001b[91m\u001b[1m \u001b[0m\u001b[91m\u001b[1m \u001b[0m\u001b[91m\u001b[1m \u001b[0m\u001b[91m\u001b[1mu\u001b[0m\u001b[91m\u001b[1mn\u001b[0m\u001b[91m\u001b[1mi\u001b[0m\u001b[91m\u001b[1mo\u001b[0m\u001b[91m\u001b[1mn\u001b[0m\u001b[91m\u001b[1m \u001b[0m\u001b[91m\u001b[1m=\u001b[0m\u001b[91m\u001b[1m \u001b[0m\u001b[91m\u001b[1ml\u001b[0m\u001b[91m\u001b[1me\u001b[0m\u001b[91m\u001b[1mn\u001b[0m\u001b[91m\u001b[1m(\u001b[0m\u001b[91m\u001b[1mn\u001b[0m\u001b[91m\u001b[1mg\u001b[0m\u001b[91m\u001b[1mr\u001b[0m\u001b[91m\u001b[1ma\u001b[0m\u001b[91m\u001b[1mm\u001b[0m\u001b[91m\u001b[1ms\u001b[0m\u001b[91m\u001b[1m_\u001b[0m\u001b[91m\u001b[1mf\u001b[0m\u001b[91m\u001b[1mi\u001b[0m\u001b[91m\u001b[1mr\u001b[0m\u001b[91m\u001b[1ms\u001b[0m\u001b[91m\u001b[1mt\u001b[0m\u001b[91m\u001b[1m \u001b[0m\u001b[91m\u001b[1m|\u001b[0m\u001b[91m\u001b[1m \u001b[0m\u001b[91m\u001b[1mn\u001b[0m\u001b[91m\u001b[1mg\u001b[0m\u001b[91m\u001b[1mr\u001b[0m\u001b[91m\u001b[1ma\u001b[0m\u001b[91m\u001b[1mm\u001b[0m\u001b[91m\u001b[1ms\u001b[0m\u001b[91m\u001b[1m_\u001b[0m\u001b[91m\u001b[1ms\u001b[0m\u001b[91m\u001b[1me\u001b[0m\u001b[91m\u001b[1mc\u001b[0m\u001b[91m\u001b[1mo\u001b[0m\u001b[91m\u001b[1mn\u001b[0m\u001b[91m\u001b[1md\u001b[0m\u001b[91m\u001b[1m)\u001b[0m\u001b[91m\u001b[1m\n",
      "\u001b[0m\u001b[91m\u001b[1m \u001b[0m\u001b[91m\u001b[1m \u001b[0m\u001b[91m\u001b[1m \u001b[0m\u001b[91m\u001b[1m \u001b[0m\u001b[91m\u001b[1mL\u001b[0m\u001b[91m\u001b[1m \u001b[0m\u001b[91m\u001b[1m=\u001b[0m\u001b[91m\u001b[1m \u001b[0m\u001b[91m\u001b[1m[\u001b[0m\u001b[91m\u001b[1m[\u001b[0m\u001b[91m\u001b[1m0\u001b[0m\u001b[91m\u001b[1m]\u001b[0m\u001b[91m\u001b[1m \u001b[0m\u001b[91m\u001b[1m*\u001b[0m\u001b[91m\u001b[1m \u001b[0m\u001b[91m\u001b[1m(\u001b[0m\u001b[91m\u001b[1mn\u001b[0m\u001b[91m\u001b[1m \u001b[0m\u001b[91m\u001b[1m+\u001b[0m\u001b[91m\u001b[1m \u001b[0m\u001b[91m\u001b[1m1\u001b[0m\u001b[91m\u001b[1m)\u001b[0m\u001b[91m\u001b[1m \u001b[0m\u001b[91m\u001b[1mf\u001b[0m\u001b[91m\u001b[1mo\u001b[0m\u001b[91m\u001b[1mr\u001b[0m\u001b[91m\u001b[1m \u001b[0m\u001b[91m\u001b[1mi\u001b[0m\u001b[91m\u001b[1m \u001b[0m\u001b[91m\u001b[1mi\u001b[0m\u001b[91m\u001b[1mn\u001b[0m\u001b[91m\u001b[1m \u001b[0m\u001b[91m\u001b[1mr\u001b[0m\u001b[91m\u001b[1ma\u001b[0m\u001b[91m\u001b[1mn\u001b[0m\u001b[91m\u001b[1mg\u001b[0m\u001b[91m\u001b[1me\u001b[0m\u001b[91m\u001b[1m(\u001b[0m\u001b[91m\u001b[1mm\u001b[0m\u001b[91m\u001b[1m \u001b[0m\u001b[91m\u001b[1m+\u001b[0m\u001b[91m\u001b[1m \u001b[0m\u001b[91m\u001b[1m1\u001b[0m\u001b[91m\u001b[1m)\u001b[0m\u001b[91m\u001b[1m]\u001b[0m\u001b[91m\u001b[1m\n",
      "\u001b[0m\u001b[91m\u001b[1m \u001b[0m\u001b[91m\u001b[1m \u001b[0m\u001b[91m\u001b[1m \u001b[0m\u001b[91m\u001b[1m \u001b[0m\u001b[91m\u001b[1mf\u001b[0m\u001b[91m\u001b[1mo\u001b[0m\u001b[91m\u001b[1mr\u001b[0m\u001b[91m\u001b[1m \u001b[0m\u001b[91m\u001b[1mi\u001b[0m\u001b[91m\u001b[1m \u001b[0m\u001b[91m\u001b[1mi\u001b[0m\u001b[91m\u001b[1mn\u001b[0m\u001b[91m\u001b[1m \u001b[0m\u001b[91m\u001b[1mr\u001b[0m\u001b[91m\u001b[1ma\u001b[0m\u001b[91m\u001b[1mn\u001b[0m\u001b[91m\u001b[1mg\u001b[0m\u001b[91m\u001b[1me\u001b[0m\u001b[91m\u001b[1m(\u001b[0m\u001b[91m\u001b[1mm\u001b[0m\u001b[91m\u001b[1m \u001b[0m\u001b[91m\u001b[1m+\u001b[0m\u001b[91m\u001b[1m \u001b[0m\u001b[91m\u001b[1m1\u001b[0m\u001b[91m\u001b[1m)\u001b[0m\u001b[91m\u001b[1m:\u001b[0m\u001b[91m\u001b[1m\n",
      "\u001b[0m\u001b[91m\u001b[1m \u001b[0m\u001b[91m\u001b[1m \u001b[0m\u001b[91m\u001b[1m \u001b[0m\u001b[91m\u001b[1m \u001b[0m\u001b[91m\u001b[1m \u001b[0m\u001b[91m\u001b[1m \u001b[0m\u001b[91m\u001b[1m \u001b[0m\u001b[91m\u001b[1m \u001b[0m\u001b[91m\u001b[1mf\u001b[0m\u001b[91m\u001b[1mo\u001b[0m\u001b[91m\u001b[1mr\u001b[0m\u001b[91m\u001b[1m \u001b[0m\u001b[91m\u001b[1mj\u001b[0m\u001b[91m\u001b[1m \u001b[0m\u001b[91m\u001b[1mi\u001b[0m\u001b[91m\u001b[1mn\u001b[0m\u001b[91m\u001b[1m \u001b[0m\u001b[91m\u001b[1mr\u001b[0m\u001b[91m\u001b[1ma\u001b[0m\u001b[91m\u001b[1mn\u001b[0m\u001b[91m\u001b[1mg\u001b[0m\u001b[91m\u001b[1me\u001b[0m\u001b[91m\u001b[1m(\u001b[0m\u001b[91m\u001b[1mn\u001b[0m\u001b[91m\u001b[1m \u001b[0m\u001b[91m\u001b[1m+\u001b[0m\u001b[91m\u001b[1m \u001b[0m\u001b[91m\u001b[1m1\u001b[0m\u001b[91m\u001b[1m)\u001b[0m\u001b[91m\u001b[1m:\u001b[0m\u001b[91m\u001b[1m\n",
      "\u001b[0m\u001b[91m\u001b[1m \u001b[0m\u001b[91m\u001b[1m \u001b[0m\u001b[91m\u001b[1m \u001b[0m\u001b[91m\u001b[1m \u001b[0m\u001b[91m\u001b[1m \u001b[0m\u001b[91m\u001b[1m \u001b[0m\u001b[91m\u001b[1m \u001b[0m\u001b[91m\u001b[1m \u001b[0m\u001b[91m\u001b[1m \u001b[0m\u001b[91m\u001b[1m \u001b[0m\u001b[91m\u001b[1m \u001b[0m\u001b[91m\u001b[1m \u001b[0m\u001b[91m\u001b[1me\u001b[0m\u001b[91m\u001b[1ml\u001b[0m\u001b[91m\u001b[1mi\u001b[0m\u001b[91m\u001b[1mf\u001b[0m\u001b[91m\u001b[1m \u001b[0m\u001b[91m\u001b[1mX\u001b[0m\u001b[91m\u001b[1m[\u001b[0m\u001b[91m\u001b[1mi\u001b[0m\u001b[91m\u001b[1m \u001b[0m\u001b[91m\u001b[1m-\u001b[0m\u001b[91m\u001b[1m \u001b[0m\u001b[91m\u001b[1m1\u001b[0m\u001b[91m\u001b[1m]\u001b[0m\u001b[91m\u001b[1m \u001b[0m\u001b[91m\u001b[1m=\u001b[0m\u001b[91m\u001b[1m=\u001b[0m\u001b[91m\u001b[1m \u001b[0m\u001b[91m\u001b[1mY\u001b[0m\u001b[91m\u001b[1m[\u001b[0m\u001b[91m\u001b[1mj\u001b[0m\u001b[91m\u001b[1m \u001b[0m\u001b[91m\u001b[1m-\u001b[0m\u001b[91m\u001b[1m \u001b[0m\u001b[91m\u001b[1m1\u001b[0m\u001b[91m\u001b[1m]\u001b[0m\u001b[91m\u001b[1m:\u001b[0m\u001b[91m\u001b[1m\n",
      "\u001b[0m\u001b[91m\u001b[1m \u001b[0m\u001b[91m\u001b[1m \u001b[0m\u001b[91m\u001b[1m \u001b[0m\u001b[91m\u001b[1m \u001b[0m\u001b[91m\u001b[1m \u001b[0m\u001b[91m\u001b[1m \u001b[0m\u001b[91m\u001b[1m \u001b[0m\u001b[91m\u001b[1m \u001b[0m\u001b[91m\u001b[1m \u001b[0m\u001b[91m\u001b[1m \u001b[0m\u001b[91m\u001b[1m \u001b[0m\u001b[91m\u001b[1m \u001b[0m\u001b[91m\u001b[1m \u001b[0m\u001b[91m\u001b[1m \u001b[0m\u001b[91m\u001b[1m \u001b[0m\u001b[91m\u001b[1m \u001b[0m\u001b[91m\u001b[1mL\u001b[0m\u001b[91m\u001b[1m[\u001b[0m\u001b[91m\u001b[1mi\u001b[0m\u001b[91m\u001b[1m]\u001b[0m\u001b[91m\u001b[1m[\u001b[0m\u001b[91m\u001b[1mj\u001b[0m\u001b[91m\u001b[1m]\u001b[0m\u001b[91m\u001b[1m \u001b[0m\u001b[91m\u001b[1m=\u001b[0m\u001b[91m\u001b[1m \u001b[0m\u001b[91m\u001b[1mL\u001b[0m\u001b[91m\u001b[1m[\u001b[0m\u001b[91m\u001b[1mi\u001b[0m\u001b[91m\u001b[1m \u001b[0m\u001b[91m\u001b[1m-\u001b[0m\u001b[91m\u001b[1m \u001b[0m\u001b[91m\u001b[1m1\u001b[0m\u001b[91m\u001b[1m]\u001b[0m\u001b[91m\u001b[1m[\u001b[0m\u001b[91m\u001b[1mj\u001b[0m\u001b[91m\u001b[1m \u001b[0m\u001b[91m\u001b[1m-\u001b[0m\u001b[91m\u001b[1m \u001b[0m\u001b[91m\u001b[1m1\u001b[0m\u001b[91m\u001b[1m]\u001b[0m\u001b[91m\u001b[1m \u001b[0m\u001b[91m\u001b[1m+\u001b[0m\u001b[91m\u001b[1m \u001b[0m\u001b[91m\u001b[1m1\u001b[0m"
     ]
    }
   ],
   "source": [
    "print_suspect_parts(text2, answer[1], features2.tokens_pos)"
   ]
  },
  {
   "cell_type": "markdown",
   "id": "cca555f1",
   "metadata": {},
   "source": [
    "**NB.** Строки документации (\"\"\" \"\"\", не путать с #) в Python считаются константным значением поэтому GST определяет, что функции, отличающиеся только наличием документации отличаются и совпадают только в месте самого исполнения кода. Нужно учитывать, что обычно такие строки не будут писаться просто так, либо исключать их из программы."
   ]
  },
  {
   "cell_type": "markdown",
   "id": "d06bf428",
   "metadata": {},
   "source": [
    "**NB.** Для выделения схожим фрагментов стоит воспользоваться функций print_code_and_highlight_suspect из codeplag.display.utils. Подстветка будет работать в консоли."
   ]
  },
  {
   "cell_type": "markdown",
   "id": "1dcd7555",
   "metadata": {},
   "source": [
    "# Взаимодействие с удалёнными репозиториями"
   ]
  },
  {
   "cell_type": "code",
   "execution_count": 15,
   "id": "a5ab79e8",
   "metadata": {},
   "outputs": [],
   "source": [
    "from webparsers.github_parser import GitHubParser\n",
    "from decouple import Config, RepositoryEnv\n",
    "\n",
    "env_config = Config(RepositoryEnv('../../.env'))\n",
    "gh = GitHubParser(access_token=env_config.get('ACCESS_TOKEN'))"
   ]
  },
  {
   "cell_type": "markdown",
   "id": "136500cb",
   "metadata": {},
   "source": [
    "**Ключ - название репозитория, значение - ссылка на репозиторий**"
   ]
  },
  {
   "cell_type": "code",
   "execution_count": 16,
   "id": "ef58d3a5",
   "metadata": {},
   "outputs": [
    {
     "data": {
      "text/plain": [
       "[Repository(name='adfmp1h21-birds', html_url='https://github.com/OSLL/adfmp1h21-birds'),\n",
       " Repository(name='adfmp1h21-mushrooms', html_url='https://github.com/OSLL/adfmp1h21-mushrooms'),\n",
       " Repository(name='adfmp1h21-verbal-counting', html_url='https://github.com/OSLL/adfmp1h21-verbal-counting'),\n",
       " Repository(name='adfmp1h21-crocodile', html_url='https://github.com/OSLL/adfmp1h21-crocodile'),\n",
       " Repository(name='adfmp1h21-alias', html_url='https://github.com/OSLL/adfmp1h21-alias'),\n",
       " Repository(name='adfmp1h21-iq', html_url='https://github.com/OSLL/adfmp1h21-iq')]"
      ]
     },
     "execution_count": 16,
     "metadata": {},
     "output_type": "execute_result"
    }
   ],
   "source": [
    "gh.get_list_of_repos('OSLL', reg_exp=re.compile(r\"[abc]df\\w*21\"))"
   ]
  },
  {
   "cell_type": "code",
   "execution_count": 17,
   "id": "06862c9a",
   "metadata": {},
   "outputs": [
    {
     "data": {
      "text/plain": [
       "'main'"
      ]
     },
     "execution_count": 17,
     "metadata": {},
     "output_type": "execute_result"
    }
   ],
   "source": [
    "gh.get_name_default_branch('OSLL', 'code-plagiarism')"
   ]
  },
  {
   "cell_type": "markdown",
   "id": "32b33621",
   "metadata": {},
   "source": [
    "**Ключ - название ветки, значение - sha commit'а**"
   ]
  },
  {
   "cell_type": "code",
   "execution_count": 18,
   "id": "71b2c9b5",
   "metadata": {},
   "outputs": [
    {
     "data": {
      "text/plain": [
       "[BranchInfo(name='CP-148', last_commit=Commit(sha='d24d00655563561d1a7b73a010605ec3f80d7c71', date='2023-01-15T12:35:32Z')),\n",
       " BranchInfo(name='main', last_commit=Commit(sha='6e4569aa953a2b8cd69c3c2e33faab45ce5344d1', date='2024-10-19T09:35:52Z'))]"
      ]
     },
     "execution_count": 18,
     "metadata": {},
     "output_type": "execute_result"
    }
   ],
   "source": [
    "gh.get_list_repo_branches('OSLL', 'code-plagiarism')"
   ]
  },
  {
   "cell_type": "code",
   "execution_count": 19,
   "id": "22b1b2e6",
   "metadata": {
    "scrolled": false
   },
   "outputs": [
    {
     "name": "stdout",
     "output_type": "stream",
     "text": [
      "MIT License\n",
      "\n",
      "Copyright (c) 2021 Codeplag Development Team \n",
      "\n",
      "Permission is hereby granted, free of charge, to any person obtaining a copy\n",
      "of this software and associated documentation files (the \"Software\"), to deal\n",
      "in the Software without restriction, including without limitation the rights\n",
      "to use, copy, modify, merge, publish, distribute, sublicense, and/or sell\n",
      "copies of the Software, and to permit persons to whom the Software is\n",
      "furnished to do so, subject to the following conditions:\n",
      "\n",
      "The above copyright notice and this permission notice shall be included in all\n",
      "copies or substantial portions of the Software.\n",
      "\n",
      "THE SOFTWARE IS PROVIDED \"AS IS\", WITHOUT WARRANTY OF ANY KIND, EXPRESS OR\n",
      "IMPLIED, INCLUDING BUT NOT LIMITED TO THE WARRANTIES OF MERCHANTABILITY,\n",
      "FITNESS FOR A PARTICULAR PURPOSE AND NONINFRINGEMENT. IN NO EVENT SHALL THE\n",
      "AUTHORS OR COPYRIGHT HOLDERS BE LIABLE FOR ANY CLAIM, DAMAGES OR OTHER\n",
      "LIABILITY, WHETHER IN AN ACTION OF CONTRACT, TORT OR OTHERWISE, ARISING FROM,\n",
      "OUT OF OR IN CONNECTION WITH THE SOFTWARE OR THE USE OR OTHER DEALINGS IN THE\n",
      "SOFTWARE.\n",
      "\n"
     ]
    }
   ],
   "source": [
    "print(gh.get_file_from_url('https://github.com/OSLL/code-plagiarism/blob/main/LICENSE')[0])"
   ]
  },
  {
   "cell_type": "code",
   "execution_count": 20,
   "id": "4f3bb24e",
   "metadata": {},
   "outputs": [],
   "source": [
    "files1 = list(\n",
    "    gh.get_files_generator_from_repo_url(\n",
    "        \"https://github.com/OSLL/code-plagiarism\",\n",
    "        path_regexp=re.compile(r\".py$\")\n",
    "    )\n",
    ")"
   ]
  },
  {
   "cell_type": "code",
   "execution_count": 21,
   "id": "bbd39afe",
   "metadata": {},
   "outputs": [
    {
     "name": "stdout",
     "output_type": "stream",
     "text": [
      "from typing import Literal\n",
      "\n",
      "\n",
      "def main() -> Literal[0, 1, 2]:\n",
      "    import argcomplete\n",
      "    import pandas as pd\n",
      "\n",
      "    from codeplag.codeplagcli import CodeplagCLI\n",
      "    from codeplag.config import read_settings_conf\n",
      "    from codeplag.consts import LOG_PATH\n",
      "    from codeplag.logger import codeplag_logger as logger\n",
      "    from codeplag.logger import set_handlers\n",
      "    from codeplag.translate import get_translations\n",
      "    from codeplag.utils import CodeplagEngine\n",
      "\n",
      "    pd.set_option(\"display.float_format\", \"{:,.2%}\".format)\n",
      "    pd.set_option(\"display.max_colwidth\", None)\n",
      "\n",
      "    translations = get_translations()\n",
      "    translations.install()\n",
      "\n",
      "    cli = CodeplagCLI()\n",
      "    argcomplete.autocomplete(cli)\n",
      "    parsed_args = vars(cli.parse_args())\n",
      "    settings_conf = read_settings_conf()\n",
      "    set_handlers(logger, LOG_PATH, settings_conf[\"log_level\"])\n",
      "    try:\n",
      "        codeplag_util = CodeplagEngine(parsed_args)\n",
      "        code = codeplag_util.run()\n",
      "    except KeyboardInterrupt:\n",
      "        logger.warning(\"The util stopped by keyboard interrupt.\")\n",
      "        return 1\n",
      "    except Exception:\n",
      "        logger.error(\n",
      "            \"An unexpected error occurred while running the utility. \"\n",
      "            \"For getting more information, check file '%s'.\",\n",
      "            LOG_PATH,\n",
      "        )\n",
      "        logger.debug(\"Trace:\", exc_info=True)\n",
      "        return 2\n",
      "\n",
      "    return code\n",
      "\n"
     ]
    }
   ],
   "source": [
    "print(files1[2][0])"
   ]
  },
  {
   "cell_type": "code",
   "execution_count": 22,
   "id": "25757f69",
   "metadata": {},
   "outputs": [
    {
     "name": "stdout",
     "output_type": "stream",
     "text": [
      "https://github.com/OSLL/code-plagiarism/tree/main/rc/webparsers/__init__.py\n",
      "https://github.com/OSLL/code-plagiarism/tree/main/rc/webparsers/async_github_parser.py\n"
     ]
    }
   ],
   "source": [
    "files2 = list(gh.get_files_generator_from_dir_url('https://github.com/OSLL/code-plagiarism/tree/main/src/webparsers'))\n",
    "print(files2[0][1])\n",
    "print(files2[1][1])"
   ]
  },
  {
   "cell_type": "markdown",
   "id": "5ee89f44",
   "metadata": {},
   "source": [
    "### Работа с Pull Requests"
   ]
  },
  {
   "cell_type": "code",
   "execution_count": 23,
   "id": "115970c2",
   "metadata": {},
   "outputs": [
    {
     "name": "stdout",
     "output_type": "stream",
     "text": [
      "[PullRequest(number=4, last_commit_sha='36b53d6f2dbd3bfb244717da370cae607d72a9ef', owner='Artanias', branch='Foo_Foo_lb3', state='open', draft=False),\n",
      " PullRequest(number=3, last_commit_sha='9af7216b9420bd4fb8f017de2893b831ec53874d', owner='Artanias', branch='Bar_Bar_lb1', state='open', draft=False),\n",
      " PullRequest(number=2, last_commit_sha='1a816f7360422db31889e7df6872c67c43b5cc5a', owner='Artanias', branch='Bar_Foo_lb2', state='open', draft=False),\n",
      " PullRequest(number=1, last_commit_sha='0b3c886e9fc54da3c5708248f3a4f9ea31c2d3d4', owner='Artanias', branch='Foo_Bar_lb1', state='open', draft=False)]\n"
     ]
    }
   ],
   "source": [
    "owner = 'Artanias'\n",
    "repo = 'check_plag'\n",
    "pulls = gh.get_pulls_info(owner, repo)\n",
    "\n",
    "pprint(pulls)"
   ]
  }
 ],
 "metadata": {
  "kernelspec": {
   "display_name": "Python 3 (ipykernel)",
   "language": "python",
   "name": "python3"
  },
  "language_info": {
   "codemirror_mode": {
    "name": "ipython",
    "version": 3
   },
   "file_extension": ".py",
   "mimetype": "text/x-python",
   "name": "python",
   "nbconvert_exporter": "python",
   "pygments_lexer": "ipython3",
   "version": "3.10.12"
  }
 },
 "nbformat": 4,
 "nbformat_minor": 5
}
