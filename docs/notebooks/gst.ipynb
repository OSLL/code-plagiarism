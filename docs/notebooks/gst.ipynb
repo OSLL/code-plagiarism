{
 "cells": [
  {
   "cell_type": "code",
   "execution_count": 1,
   "metadata": {},
   "outputs": [
    {
     "name": "stdout",
     "output_type": "stream",
     "text": [
      "Processing c:\\users\\acerpc\\jupiter\\gst"
     ]
    },
    {
     "name": "stderr",
     "output_type": "stream",
     "text": [
      "ERROR: Cannot uninstall 'llvmlite'. It is a distutils installed project and thus we cannot accurately determine which files belong to it which would lead to only a partial uninstall.\n"
     ]
    },
    {
     "name": "stdout",
     "output_type": "stream",
     "text": [
      "\n",
      "Requirement already satisfied: numpy==1.19.4 in c:\\users\\acerpc\\anaconda3\\lib\\site-packages (from codeplag==0.0.1) (1.19.4)\n",
      "Requirement already satisfied: pandas==1.0.5 in c:\\users\\acerpc\\anaconda3\\lib\\site-packages (from codeplag==0.0.1) (1.0.5)\n",
      "Requirement already satisfied: ccsyspath==1.1.0 in c:\\users\\acerpc\\anaconda3\\lib\\site-packages (from codeplag==0.0.1) (1.1.0)\n",
      "Requirement already satisfied: clang==11.0 in c:\\users\\acerpc\\anaconda3\\lib\\site-packages (from codeplag==0.0.1) (11.0)\n",
      "Collecting llvmlite==0.35.0\n",
      "  Using cached llvmlite-0.35.0-cp38-cp38-win_amd64.whl (16.0 MB)\n",
      "Collecting libclang==10.0.1.0\n",
      "  Using cached libclang-10.0.1.0-py2.py3-none-win_amd64.whl (12.1 MB)\n",
      "Collecting colorama==0.3.9\n",
      "  Using cached colorama-0.3.9-py2.py3-none-any.whl (20 kB)\n",
      "Requirement already satisfied: termcolor==1.1.0 in c:\\users\\acerpc\\anaconda3\\lib\\site-packages (from codeplag==0.0.1) (1.1.0)\n",
      "Requirement already satisfied: python-decouple==3.4 in c:\\users\\acerpc\\anaconda3\\lib\\site-packages (from codeplag==0.0.1) (3.4)\n",
      "Collecting requests==2.22.0\n",
      "  Using cached requests-2.22.0-py2.py3-none-any.whl (57 kB)\n",
      "Requirement already satisfied: python-dateutil>=2.6.1 in c:\\users\\acerpc\\anaconda3\\lib\\site-packages (from pandas==1.0.5->codeplag==0.0.1) (2.8.1)\n",
      "Requirement already satisfied: pytz>=2017.2 in c:\\users\\acerpc\\anaconda3\\lib\\site-packages (from pandas==1.0.5->codeplag==0.0.1) (2020.1)\n",
      "Requirement already satisfied: chardet<3.1.0,>=3.0.2 in c:\\users\\acerpc\\anaconda3\\lib\\site-packages (from requests==2.22.0->codeplag==0.0.1) (3.0.4)\n",
      "Collecting idna<2.9,>=2.5\n",
      "  Using cached idna-2.8-py2.py3-none-any.whl (58 kB)\n",
      "Requirement already satisfied: certifi>=2017.4.17 in c:\\users\\acerpc\\anaconda3\\lib\\site-packages (from requests==2.22.0->codeplag==0.0.1) (2020.6.20)\n",
      "Requirement already satisfied: urllib3!=1.25.0,!=1.25.1,<1.26,>=1.21.1 in c:\\users\\acerpc\\anaconda3\\lib\\site-packages (from requests==2.22.0->codeplag==0.0.1) (1.25.11)\n",
      "Requirement already satisfied: six>=1.5 in c:\\users\\acerpc\\anaconda3\\lib\\site-packages (from python-dateutil>=2.6.1->pandas==1.0.5->codeplag==0.0.1) (1.15.0)\n",
      "Building wheels for collected packages: codeplag\n",
      "  Building wheel for codeplag (setup.py): started\n",
      "  Building wheel for codeplag (setup.py): finished with status 'done'\n",
      "  Created wheel for codeplag: filename=codeplag-0.0.1-py3-none-any.whl size=27787 sha256=5f1131c076c69040d51108d8a01f7a80bf4ec49d14bb7fb9a9b2b5d2b9f0e4f8\n",
      "  Stored in directory: C:\\Users\\AcerPC\\AppData\\Local\\Temp\\pip-ephem-wheel-cache-on9a8yhp\\wheels\\15\\02\\5d\\a1e29dd7c7d3501ca86e44298b78d64ccf95786af5ad34fa64\n",
      "Successfully built codeplag\n",
      "Installing collected packages: llvmlite, libclang, colorama, idna, requests, codeplag\n",
      "  Attempting uninstall: llvmlite\n",
      "    Found existing installation: llvmlite 0.34.0\n"
     ]
    }
   ],
   "source": [
    "!pip install ../../../gst/"
   ]
  },
  {
   "cell_type": "code",
   "execution_count": 1,
   "metadata": {},
   "outputs": [],
   "source": [
    "from codeplag.algorithms.stringbased import is_marked_match, gst"
   ]
  },
  {
   "cell_type": "code",
   "execution_count": 2,
   "metadata": {},
   "outputs": [
    {
     "name": "stdout",
     "output_type": "stream",
     "text": [
      "True\n",
      "True\n",
      "False\n"
     ]
    }
   ],
   "source": [
    "# 5 in dict keys\n",
    "print(is_marked_match({5: True}, 5, 4))\n",
    "# 3 + 6 - 1 in dict keys\n",
    "print(is_marked_match({8: 1}, 3, 6))\n",
    "# 3 and 3 + 6 - 1 not in dict keys\n",
    "print(is_marked_match({5: True, 6: True, 7: True}, 3, 6))"
   ]
  },
  {
   "cell_type": "code",
   "execution_count": 3,
   "metadata": {},
   "outputs": [],
   "source": [
    "def main():\n",
    "    # sample1.py tokens\n",
    "    first_seq = [7, 23, 24, 24, 24, 5, 35, 35, 6, 27, 3, 3, 35, 27, 4, 35, 35, 27, 6, 2, 35, 27, 3, 35, 35, 27, 3, 35, 9, 27, 9, 27, 7, \n",
    "         23, 24, 4, 35, 26, 4, 35, 26, 4, 35, 35, 27, 4, 35, 35, 35, 27, 4, 35, 35, 27, 27, 1, 35, 4, 35, 27, 4, 35, 35, 35, 27, \n",
    "         1, 35, 4, 35, 35, 27, 1, 35, 4, 35, 35, 5, 35, 35, 4, 35, 35, 27, 6, 35, 27, 3, 35, 6, 35, 35, 3, 27, 4, 35, 35, 27, \n",
    "         7, 4, 35, 35, 27, 35, 27, 6, 35, 27, 3, 35, 4, 35, 35, 27, 27, 5, 35, 35, 4, 35, 27, 4, 35, 35, 6, 35, 3, 27, 13, 5, \n",
    "         35, 35, 3, 27, 6, 35, 35, 3, 35, 4, 35, 27, 13, 4, 35, 35, 35, 6, 35, 3, 35, 4, 35, 27, 6, 35, 3, 27, 35, 35, 35, 35, \n",
    "         9, 27, 35]\n",
    "    \n",
    "    # sample11.py tokens\n",
    "    second_seq = [7, 23, 24, 4, 35, 35, 27, 4, 35, 35, 35, 27, 4, 35, 35, 27, 27, 1, 35, 4, 35, 35, 35, 27, 1, 35, 4, 35, 35, 27, 1, 35, \n",
    "         4, 35, 35, 4, 35, 26, 4, 35, 26, 5, 35, 35, 4, 35, 35, 27, 6, 35, 27, 3, 35, 6, 35, 35, 3, 27, 4, 35, 35, 27, 27, 4, \n",
    "         35, 35, 27, 35, 27, 6, 35, 27, 3, 35, 4, 35, 35, 27, 27, 5, 35, 35, 4, 35, 27, 4, 35, 35, 6, 35, 3, 27, 13, 5, 35, 35, \n",
    "         3, 27, 6, 35, 35, 3, 35, 4, 35, 27, 13, 4, 35, 35, 35, 6, 35, 3, 35, 4, 35, 27, 6, 35, 35, 35, 35, 35, 9, 27, 35]\n",
    "\n",
    "    min_len = 5\n",
    "    res = gst(first_seq, second_seq, min_len)\n",
    "    \n",
    "    plag = 0\n",
    "    tiles = []\n",
    "    for tile in res:\n",
    "        tokens = []\n",
    "        for t in tile:\n",
    "            plag = plag + 1\n",
    "            tmp = 'error'\n",
    "            for k, v in TO_TOKEN.items():\n",
    "                if v == t:\n",
    "                    tmp = k\n",
    "                    break\n",
    "            tokens.append(tmp)\n",
    "        tiles.append(tokens)\n",
    "        \n",
    "    plag = plag / len(first_seq)\n",
    "    print('tiles = ', tiles)\n",
    "    print()\n",
    "    print('plag rate = ', plag)\n",
    "    \n",
    "    return tiles\n",
    "    \n",
    "TO_TOKEN = {'UAdd': 0, 'USub': 0, 'Not': 0, 'Invert': 0,\n",
    "        'Add': 1, 'Sub': 1, 'Mult': 1, 'Div': 1, 'FloorDiv': 1,\n",
    "        'Mod': 1, 'Pow': 1, 'LShift': 1, 'RShift': 1,\n",
    "        'BitOr': 1, 'BitXor': 1, 'BitAnd': 1, 'MatMult': 1,\n",
    "        'And': 2, 'Or': 2,\n",
    "        'Eq': 3, 'NotEq': 3, 'Lt': 3,\n",
    "        'LtE': 3, 'Gt': 3, 'GtE': 3, 'Is': 3, 'IsNot': 3,\n",
    "        'In': 3, 'NotIn': 3,\n",
    "        'Assign': 4, 'AnnAssign': 4, 'AugAssign': 4,\n",
    "        'For': 5, 'AsyncFor': 5, 'While': 5,\n",
    "        'If': 6, 'IfExp': 6,\n",
    "        'FunctionDef': 7, 'AsyncFunctionDef': 7, 'ClassDef': 8,\n",
    "        'Return': 9, 'Yield': 10, 'YieldFrom': 10,\n",
    "        'Raise': 11, 'Try': 11, 'Assert': 11,\n",
    "        'Import': 12, 'ImportFrom': 12,\n",
    "        'Pass': 13, 'Break': 13, 'Continue': 13,\n",
    "        'Delete': 14, 'With': 15, 'AsyncWith': 15,\n",
    "        'Global': 16, 'Nonlocal': 17, 'Exp': 18,\n",
    "        'Lambda': 19, 'alias': 20, 'ExceptHandler': 21,\n",
    "        'withitem': 22, 'arguments': 23, 'arg': 24,\n",
    "        'Await': 25,\n",
    "        'Tuple': 26, 'Set': 26, 'Dict': 26, 'List': 26,\n",
    "        'Constant': 27, 'FormattedValue': 28, 'JoinedStr': 29, 'Num': 30,\n",
    "        'Str': 31, 'Bytes': 32, 'NameConstant': 33, 'Ellipsis': 34,\n",
    "        'Name': 35\n",
    "        }"
   ]
  },
  {
   "cell_type": "code",
   "execution_count": 4,
   "metadata": {},
   "outputs": [
    {
     "name": "stdout",
     "output_type": "stream",
     "text": [
      "tiles =  [['Assign', 'Name', 'Name', 'Constant', 'Name', 'Constant', 'If', 'Name', 'Constant', 'Eq', 'Name', 'Assign', 'Name', 'Name', 'Constant', 'Constant', 'For', 'Name', 'Name', 'Assign', 'Name', 'Constant', 'Assign', 'Name', 'Name', 'If', 'Name', 'Eq', 'Constant', 'Pass', 'For', 'Name', 'Name', 'Eq', 'Constant', 'If', 'Name', 'Name', 'Eq', 'Name', 'Assign', 'Name', 'Constant', 'Pass', 'Assign', 'Name', 'Name', 'Name', 'If', 'Name', 'Eq', 'Name', 'Assign', 'Name', 'Constant', 'If', 'Name'], ['For', 'Name', 'Name', 'Assign', 'Name', 'Name', 'Constant', 'If', 'Name', 'Constant', 'Eq', 'Name', 'If', 'Name', 'Name', 'Eq', 'Constant', 'Assign', 'Name', 'Name', 'Constant'], ['Assign', 'Name', 'Name', 'Constant', 'Assign', 'Name', 'Name', 'Name', 'Constant', 'Assign', 'Name', 'Name', 'Constant', 'Constant', 'Add', 'Name', 'Assign', 'Name'], ['Name', 'Name', 'Constant', 'Add', 'Name', 'Assign', 'Name', 'Name', 'Constant', 'Add', 'Name', 'Assign', 'Name', 'Name'], ['Name', 'Name', 'Name', 'Name', 'Return', 'Constant', 'Name'], ['Assign', 'Name', 'Tuple', 'Assign', 'Name', 'Tuple']]\n",
      "\n",
      "plag rate =  0.75\n"
     ]
    }
   ],
   "source": [
    "tiles = main()"
   ]
  },
  {
   "cell_type": "code",
   "execution_count": 5,
   "metadata": {},
   "outputs": [
    {
     "data": {
      "text/plain": [
       "57"
      ]
     },
     "execution_count": 5,
     "metadata": {},
     "output_type": "execute_result"
    }
   ],
   "source": [
    "len(tiles[0])"
   ]
  },
  {
   "cell_type": "code",
   "execution_count": 6,
   "metadata": {},
   "outputs": [
    {
     "data": {
      "text/plain": [
       "123"
      ]
     },
     "execution_count": 6,
     "metadata": {},
     "output_type": "execute_result"
    }
   ],
   "source": [
    "sum(len(tiles[i]) for i in range(len(tiles)))"
   ]
  },
  {
   "cell_type": "code",
   "execution_count": 7,
   "metadata": {},
   "outputs": [
    {
     "data": {
      "text/plain": [
       "164"
      ]
     },
     "execution_count": 7,
     "metadata": {},
     "output_type": "execute_result"
    }
   ],
   "source": [
    "len([7, 23, 24, 24, 24, 5, 35, 35, 6, 27, 3, 3, 35, 27, 4, 35, 35, 27, 6, 2, 35, 27, 3, 35, 35, 27, 3, 35, 9, 27, 9, 27, 7, \n",
    "         23, 24, 4, 35, 26, 4, 35, 26, 4, 35, 35, 27, 4, 35, 35, 35, 27, 4, 35, 35, 27, 27, 1, 35, 4, 35, 27, 4, 35, 35, 35, 27, \n",
    "         1, 35, 4, 35, 35, 27, 1, 35, 4, 35, 35, 5, 35, 35, 4, 35, 35, 27, 6, 35, 27, 3, 35, 6, 35, 35, 3, 27, 4, 35, 35, 27, \n",
    "         7, 4, 35, 35, 27, 35, 27, 6, 35, 27, 3, 35, 4, 35, 35, 27, 27, 5, 35, 35, 4, 35, 27, 4, 35, 35, 6, 35, 3, 27, 13, 5, \n",
    "         35, 35, 3, 27, 6, 35, 35, 3, 35, 4, 35, 27, 13, 4, 35, 35, 35, 6, 35, 3, 35, 4, 35, 27, 6, 35, 3, 27, 35, 35, 35, 35, \n",
    "         9, 27, 35])"
   ]
  },
  {
   "cell_type": "code",
   "execution_count": 8,
   "metadata": {},
   "outputs": [
    {
     "data": {
      "text/plain": [
       "127"
      ]
     },
     "execution_count": 8,
     "metadata": {},
     "output_type": "execute_result"
    }
   ],
   "source": [
    "len([7, 23, 24, 4, 35, 35, 27, 4, 35, 35, 35, 27, 4, 35, 35, 27, 27, 1, 35, 4, 35, 35, 35, 27, 1, 35, 4, 35, 35, 27, 1, 35, \n",
    "         4, 35, 35, 4, 35, 26, 4, 35, 26, 5, 35, 35, 4, 35, 35, 27, 6, 35, 27, 3, 35, 6, 35, 35, 3, 27, 4, 35, 35, 27, 27, 4, \n",
    "         35, 35, 27, 35, 27, 6, 35, 27, 3, 35, 4, 35, 35, 27, 27, 5, 35, 35, 4, 35, 27, 4, 35, 35, 6, 35, 3, 27, 13, 5, 35, 35, \n",
    "         3, 27, 6, 35, 35, 3, 35, 4, 35, 27, 13, 4, 35, 35, 35, 6, 35, 3, 35, 4, 35, 27, 6, 35, 35, 35, 35, 35, 9, 27, 35])"
   ]
  }
 ],
 "metadata": {
  "interpreter": {
   "hash": "916dbcbb3f70747c44a77c7bcd40155683ae19c65e1c03b4aa3499c5328201f1"
  },
  "kernelspec": {
   "display_name": "Python 3",
   "language": "python",
   "name": "python3"
  },
  "language_info": {
   "codemirror_mode": {
    "name": "ipython",
    "version": 3
   },
   "file_extension": ".py",
   "mimetype": "text/x-python",
   "name": "python",
   "nbconvert_exporter": "python",
   "pygments_lexer": "ipython3",
   "version": "3.8.5"
  }
 },
 "nbformat": 4,
 "nbformat_minor": 5
}
